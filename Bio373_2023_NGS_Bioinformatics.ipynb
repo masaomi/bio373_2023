{
 "cells": [
  {
   "cell_type": "markdown",
   "metadata": {
    "slideshow": {
     "slide_type": "slide"
    }
   },
   "source": [
    "# Bio373 NGS Bioinformatics\n",
    "\n",
    "* 21 Sep. 2023\n",
    "* Masaomi Hatakeyama\n",
    "    - https://github.com/masaomi/Bio373_2023\n"
   ]
  },
  {
   "cell_type": "markdown",
   "metadata": {
    "slideshow": {
     "slide_type": "slide"
    }
   },
   "source": [
    "# Git commands\n",
    "\n",
    "\n",
    "Download (for the first time, only once enough)\n",
    "\n",
    "    git clone https://github.com/masaomi/Bio373_2023\n",
    "\n",
    "Update in the local repository (you do not have to do it now)\n",
    "\n",
    "    git pull\n"
   ]
  },
  {
   "cell_type": "markdown",
   "metadata": {
    "slideshow": {
     "slide_type": "slide"
    }
   },
   "source": [
    "# GitHub\n",
    "\n",
    "<div class=\"row\">\n",
    "  <div class=\"column\" align=\"center\">\n",
    "    <img src=\"https://github.com/masaomi/Bio373_2023/blob/main/png/whatisgithub1.png?raw=true\" width=\"600px\">\n",
    "  </div>\n",
    "  <div class=\"column\" align=\"center\">\n",
    "    <img src=\"https://github.com/masaomi/Bio373_2023/blob/main/png/whatisgithub2.png?raw=true\" width=\"800px\">\n",
    "  </div>\n",
    "</div>\n",
    "\n",
    "<span class=\"small\">By David Whitaker, https://www.coursereport.com/blog/what-is-github</span>\n"
   ]
  },
  {
   "cell_type": "markdown",
   "metadata": {
    "slideshow": {
     "slide_type": "slide"
    }
   },
   "source": [
    "# Run JupyterLab/Jupyter notebook\n",
    "\n",
    "\n",
    "1. Go to https://github.com/masaomi/Bio373_2023\n",
    "2. Click Jupyter link\n",
    "\n",
    "  - https://mybinder.org/v2/gh/masaomi/Bio373_2023/HEAD\n",
    "\n",
    "\n",
    "3. Wait for a while"
   ]
  },
  {
   "cell_type": "markdown",
   "metadata": {
    "slideshow": {
     "slide_type": "slide"
    }
   },
   "source": [
    "# JupyterLab/Jupyter notebook\n",
    "\n",
    "\n",
    "* **JupyterLab** is a web-based interactive development environment for Jupyter notebooks, code, and data\n",
    "* **Jupyter Notebook** is an open-source web application that allows you to create and share documents that contain live code, equations, visualizations and narrative text.\n",
    "\n",
    "https://jupyter.org/"
   ]
  },
  {
   "cell_type": "markdown",
   "metadata": {
    "slideshow": {
     "slide_type": "slide"
    }
   },
   "source": [
    "# JupyterLab\n",
    "\n",
    "<div align=\"center\">\n",
    "    <img src=\"https://github.com/masaomi/Bio373_2023/blob/main/png/jupyterlab.png?raw=true\" width=\"700px\">\n",
    "</div>\n",
    "\n"
   ]
  },
  {
   "cell_type": "markdown",
   "metadata": {
    "slideshow": {
     "slide_type": "slide"
    }
   },
   "source": [
    "# Jupyter notebook\n",
    "\n",
    "<div align=\"center\">\n",
    "    <img src=\"https://github.com/masaomi/Bio373_2023/blob/main/png/jupyternotebook.png?raw=true\" width=\"700px\">\n",
    "</div>\n",
    "\n"
   ]
  },
  {
   "cell_type": "markdown",
   "metadata": {
    "slideshow": {
     "slide_type": "notes"
    }
   },
   "source": [
    "demo: save and upload\n",
    "\n"
   ]
  },
  {
   "cell_type": "markdown",
   "metadata": {
    "slideshow": {
     "slide_type": "slide"
    }
   },
   "source": [
    "# How to use Jupyter notebook\n",
    "\n",
    "- You can run this *cell* by typing CTRL+ENTER or SHIFT+ENTER.\n",
    "    - Two types of cell: **markdown**, **code**\n",
    "- Double click or ENTER, goes into the edit mode\n",
    "- You can edit and save your notes, and take it back to home\n",
    "- *Restart* when stuck\n",
    "\n",
    "<span class=\"small\">Anaconda: https://www.continuum.io/downloads</span>"
   ]
  },
  {
   "cell_type": "code",
   "execution_count": null,
   "metadata": {
    "slideshow": {
     "slide_type": "subslide"
    }
   },
   "outputs": [],
   "source": [
    "# FYI: Python code can run on Jupyter notebook\n",
    "%matplotlib inline\n",
    "import numpy as np\n",
    "import matplotlib.pyplot as plt\n",
    "x = np.linspace(0, 2*np.pi, 300)\n",
    "y = np.sin(x**2)\n",
    "plt.plot(x, y)\n",
    "plt.title(\"A little chirp\")\n",
    "fig = plt.gcf()  # let's keep the figure object around for later..."
   ]
  },
  {
   "cell_type": "code",
   "execution_count": null,
   "metadata": {
    "slideshow": {
     "slide_type": "subslide"
    }
   },
   "outputs": [],
   "source": [
    "%%bash\n",
    "# Basic Unix command can also run\n",
    "date\n",
    "echo \"Hello, World!!\""
   ]
  },
  {
   "cell_type": "markdown",
   "metadata": {
    "slideshow": {
     "slide_type": "subslide"
    }
   },
   "source": [
    "# LaTeX is also available\n",
    "\\begin{equation*}\n",
    "1 +  \\frac{q^2}{(1-q)}+\\frac{q^6}{(1-q)(1-q^2)}+\\cdots =\n",
    "\\prod_{j=0}^{\\infty}\\frac{1}{(1-q^{5j+2})(1-q^{5j+3})}\n",
    "\\end{equation*}"
   ]
  },
  {
   "cell_type": "markdown",
   "metadata": {
    "slideshow": {
     "slide_type": "slide"
    }
   },
   "source": [
    "# Other related courses\n",
    "\n",
    "* FGCZ courses\n",
    "    - https://fgcz.ch/education.html\n",
    "* Bio334 Practical bioinformatics\n",
    "    - Python, R\n",
    "    - https://studentservices.uzh.ch/uzh/anonym/vvz/?sap-language=EN&sap-ui-language=EN#/details/2022/004/SM/50628703\n"
   ]
  },
  {
   "cell_type": "markdown",
   "metadata": {
    "slideshow": {
     "slide_type": "subslide"
    }
   },
   "source": [
    "# FGCZ courses\n",
    "\n",
    "* RNAseq course\n",
    "* Genomics course\n",
    "* Metabolomics course\n",
    "    * ngs.courses@fgcz.ethz.ch\n",
    "    * http://www.fgcz.ch/education.html\n"
   ]
  },
  {
   "cell_type": "markdown",
   "metadata": {
    "slideshow": {
     "slide_type": "slide"
    }
   },
   "source": [
    "# Contents (Today)\n",
    "\n",
    "1. Basic NGS analysis 13:00-14:00\n",
    "    - De novo assembly, RNAseq analysis\n",
    "2. Basic Informatics 14:00-15:00\n",
    "    - Operating System, File System\n",
    "3. Exercise 15:00-17:00\n",
    "    - Server access setting, file edit/transfer, job run\n",
    "    - fasta/fastq file, quality control\n",
    "\n"
   ]
  },
  {
   "cell_type": "markdown",
   "metadata": {
    "slideshow": {
     "slide_type": "slide"
    }
   },
   "source": [
    "# NGS or HTS?\n",
    "\n",
    "<div class=\"row\">\n",
    "  <div class=\"column\">\n",
    "    <img src=\"https://github.com/masaomi/Bio373_2023/blob/main/png/ngs.png?raw=true\">\n",
    "  </div>\n",
    "  <div class=\"column\">\n",
    "          <item>\n",
    "            <ul>- NGS: Next Generation Sequencing</ul>\n",
    "            <ul>- HTS: High Throughput Sequencing</ul>\n",
    "          </item>\n",
    "  </div>\n",
    "</div>\n",
    "\n",
    "\n"
   ]
  },
  {
   "cell_type": "markdown",
   "metadata": {
    "slideshow": {
     "slide_type": "slide"
    }
   },
   "source": [
    "# NGS data analyses\n",
    "\n",
    "* DNA-seq: DNA sequencing, Genomics\n",
    "* RNA-seq: RNA sequencing, Transcriptomics\n",
    "* ChIP-seq: Chromatin ImmunoPrecipitation (ChIP) \n",
    "* Metagenomics, Epigenomics, Population genetics/genomics, and so on.\n"
   ]
  },
  {
   "cell_type": "markdown",
   "metadata": {
    "slideshow": {
     "slide_type": "slide"
    }
   },
   "source": [
    "# DNA, nucleotide, gene, etc.\n",
    "\n",
    "<div align=\"center\">\n",
    "    <img src=\"https://github.com/masaomi/Bio373_2023/blob/main/png/Where-is-DNA-found-in-a-human-cell-600x445.jpg?raw=true\" width=\"500px\">\n",
    "</div>\n",
    "\n",
    "<span class=\"small\">https://whereismap.net/where-is-dna-found-in-a-human-cell-what-is-a-gene/</span>\n",
    "\n"
   ]
  },
  {
   "cell_type": "markdown",
   "metadata": {
    "slideshow": {
     "slide_type": "slide"
    }
   },
   "source": [
    "# Genome & Transcriptome\n",
    "\n",
    "<div align=\"center\">\n",
    "    <img src=\"https://github.com/masaomi/Bio373_2023/blob/main/png/transcript_structure.png?raw=true\" width=\"800px\">\n",
    "</div>\n",
    "\n"
   ]
  },
  {
   "cell_type": "markdown",
   "metadata": {
    "slideshow": {
     "slide_type": "notes"
    }
   },
   "source": [
    "* How many nucleicacids in Human genome?\n",
    "* How many genes in Human genome?\n",
    "* How many nucleic acids in coding region (exon) in human genome?\n",
    "\n"
   ]
  },
  {
   "cell_type": "markdown",
   "metadata": {
    "slideshow": {
     "slide_type": "slide"
    }
   },
   "source": [
    "# NGS data analysis\n",
    "\n",
    "<div class=\"row\">\n",
    "  <div class=\"column\" align=\"center\">\n",
    "    <img src=\"https://github.com/masaomi/Bio373_2023/blob/main/png/ngs_level.png?raw=true\" width=\"300px\">\n",
    "  </div>\n",
    "  <div class=\"column\" align=\"left\">\n",
    "      <p>\n",
    "    - NGS data analysis has different levels\n",
    "      </p>\n",
    "  </div>\n",
    "</div>\n",
    "<span class=\"small\">Werner T Brief Bioinform, 2010, 11:499-511</span>\n"
   ]
  },
  {
   "cell_type": "markdown",
   "metadata": {
    "slideshow": {
     "slide_type": "slide"
    }
   },
   "source": [
    "# After sequencing\n",
    "\n",
    "e.g. Illumina HiSeq (fastq file)\n",
    "```\n",
    "@HWI-ST1357:71:D2FNTACXX:4:1101:1667:2141 1:N:0:CGA\n",
    "GCTGCAACTAACGGCATCTGAGTTACCCATTCAAATTTTTCGCGGCTGTGT\n",
    "+\n",
    "@@@DADBEHDCFD8:@EBHICGAC?4EG@FDHGDHGIIII??@?FA;B=CE\n",
    "@HWI-ST1357:71:D2FNTACXX:4:1101:1664:2223 1:N:0:CGA\n",
    "TGTTGGTTGAGGAGGGTATGGAGGAGGAGGGTAAGCTGACGATAGCGGAGG\n",
    "+\n",
    "```"
   ]
  },
  {
   "cell_type": "markdown",
   "metadata": {
    "slideshow": {
     "slide_type": "fragment"
    }
   },
   "source": [
    "*How do you process the sequenced data?*"
   ]
  },
  {
   "cell_type": "markdown",
   "metadata": {
    "slideshow": {
     "slide_type": "slide"
    }
   },
   "source": [
    "# Many problems\n",
    "\n",
    "* Many short reads\n",
    "    - 100 - 200 base length, > 1 million reads\n",
    "* Which gene sequence? \n",
    "    - exon? intron?\n",
    "* Mis-sequencing? \n",
    "    - mis-sequence? mutation?\n",
    "* Contamination? \n",
    "    - adapter? others?\n"
   ]
  },
  {
   "cell_type": "markdown",
   "metadata": {
    "slideshow": {
     "slide_type": "fragment"
    }
   },
   "source": [
    "*How do you deal with these issues?*"
   ]
  },
  {
   "cell_type": "markdown",
   "metadata": {
    "slideshow": {
     "slide_type": "slide"
    }
   },
   "source": [
    "# How to assemble?(short reads)\n",
    "\n",
    "1. **Mapping** / **Alignment**\n",
    "    * Align reads on a reference sequence\n",
    "    \n",
    "2. **De novo assembly**\n",
    "    * Make a whole reference sequence\n",
    "\n"
   ]
  },
  {
   "cell_type": "markdown",
   "metadata": {
    "slideshow": {
     "slide_type": "slide"
    }
   },
   "source": [
    "# Mapping / Alignment\n",
    "\n",
    "\n",
    "<div>\n",
    "    <img src=\"https://github.com/masaomi/Bio373_2023/blob/main/png/mapping.png?raw=true\" width=\"700\">\n",
    "</div>\n",
    "\n",
    "* Align short reads onto a reference sequence\n",
    "    - Reference sequence is necessary\n"
   ]
  },
  {
   "cell_type": "markdown",
   "metadata": {
    "slideshow": {
     "slide_type": "slide"
    }
   },
   "source": [
    "# De novo assembly\n",
    "\n",
    "<div class=\"row\">\n",
    "  <div class=\"column\" align=\"center\">\n",
    "      <img src=\"https://github.com/masaomi/Bio373_2023/blob/main/png/assembly.png?raw=true\" width=\"500px\">\n",
    "   </div>\n",
    "  <div class=\"column\">\n",
    "      <item>\n",
    "          <ul>\n",
    "    - Concatinate short reads into longer sequences (contigs/scaffolds)\n",
    "          </ul>\n",
    "          <item>\n",
    "              <ul>\n",
    "    - Mis-assembling may happen\n",
    "              </ul>\n",
    "          </item>\n",
    "      </item>\n",
    "  </div>\n",
    "</div>"
   ]
  },
  {
   "cell_type": "markdown",
   "metadata": {
    "slideshow": {
     "slide_type": "slide"
    }
   },
   "source": [
    "# Popular software (Alignment)\n",
    "\n",
    "* Bowtie: http://bowtie-bio.sourceforge.net/bowtie2/index.shtml\n",
    "* BWA: http://bio-bwa.sourceforge.net/\n",
    "* STAR: https://github.com/alexdobin/STAR\n",
    "* HiSAT2: http://daehwankimlab.github.io/hisat2/\n",
    "\n",
    "\n"
   ]
  },
  {
   "cell_type": "markdown",
   "metadata": {
    "slideshow": {
     "slide_type": "slide"
    }
   },
   "source": [
    "# Popular software (De novo assembly)\n",
    "\n",
    "* DISCOVAR de novo: https://software.broadinstitute.org/software/discovar/blog/\n",
    "* Canu: https://github.com/marbl/canu\n",
    "* Trinity: http://trinityrnaseq.sourceforge.net/\n",
    "* Hifiasm: https://github.com/chhylp123/hifiasm\n",
    "\n"
   ]
  },
  {
   "cell_type": "markdown",
   "metadata": {
    "slideshow": {
     "slide_type": "slide"
    }
   },
   "source": [
    "# Useful links\n",
    "\n",
    "* SEQanswers\n",
    "    - http://seqanswers.com/\n",
    "* WikiBooks NGS \n",
    "    - http://en.wikibooks.org/wiki/Next_Generation_Sequencing_(NGS)\n",
    "* Google \n",
    "    - http://www.google.com\n",
    "* ChatGPT, Bing AI\n",
    "    - https://chat.openai.com/, https://www.bing.com/\n",
    "\n"
   ]
  },
  {
   "cell_type": "markdown",
   "metadata": {
    "slideshow": {
     "slide_type": "slide"
    }
   },
   "source": [
    "# Keywords\n",
    "\n",
    "* *Read*: sequenced short DNA RNA fragment\n",
    "* *Assembly*: the concatenation of short reads\n",
    "    - Alignment / De novo assembly\n",
    "* *Contig*: assembled longer sequence from reads\n",
    "* *Scaffold*: concatenated longer sequence from contigs\n"
   ]
  },
  {
   "cell_type": "markdown",
   "metadata": {
    "slideshow": {
     "slide_type": "slide"
    }
   },
   "source": [
    "# Next \n",
    "\n",
    "Typical NGS workflows\n",
    "\n",
    "1. RNA-seq: (RNA sequencing, Transcriptomics)\n",
    "2. DNA-seq: (DNA sequencing, Genomics)\n",
    "\n"
   ]
  },
  {
   "cell_type": "markdown",
   "metadata": {
    "slideshow": {
     "slide_type": "slide"
    }
   },
   "source": [
    "# What is RNA-seq?\n",
    "\n",
    "  RNA-seq (RNA Sequencing) uses next-generation \n",
    "  sequencing (NGS) to reveal the presence and \n",
    "  quantity of RNA in a biological sample at a \n",
    "  given moment (Wikipedia)\n",
    "\n",
    "\n"
   ]
  },
  {
   "cell_type": "markdown",
   "metadata": {
    "slideshow": {
     "slide_type": "fragment"
    }
   },
   "source": [
    "* Next Generation Sequencing\n",
    "* RNA presence and quantity\n",
    "\n",
    "\n"
   ]
  },
  {
   "cell_type": "markdown",
   "metadata": {
    "slideshow": {
     "slide_type": "slide"
    }
   },
   "source": [
    "# What is DNA-seq?\n",
    "\n",
    "   DNA sequencing is the process of determining \n",
    "   the precise order of nucleotides within a \n",
    "   DNA molecule. It includes any method or \n",
    "   technology that is used to determine the order\n",
    "   of the four bases in a strand of DNA (Wikipedia)"
   ]
  },
  {
   "cell_type": "markdown",
   "metadata": {
    "slideshow": {
     "slide_type": "fragment"
    }
   },
   "source": [
    "* *not always* NGS?\n",
    "* *not always* Whole genome?"
   ]
  },
  {
   "cell_type": "markdown",
   "metadata": {
    "slideshow": {
     "slide_type": "slide"
    }
   },
   "source": [
    "# Whole genome shotgun sequencing\n",
    "\n",
    "<div class=\"row\">\n",
    "  <div class=\"column\" align=\"center\">\n",
    "    <img src=\"https://github.com/masaomi/Bio373_2023/blob/main/png/wgss.png?raw=true\" width=\"600px\">\n",
    "  </div>\n",
    "  <div class=\"column\" align=\"left\">\n",
    "      <br>\n",
    "In whole genome shotgun sequencing, the entire genome \n",
    "   is sheared randomly into small fragments and then reassembled.\n",
    "   (Wikipedia)\n",
    "  </div>\n",
    "</div>\n",
    "\n",
    "   \n",
    "\n",
    "\n"
   ]
  },
  {
   "cell_type": "markdown",
   "metadata": {
    "slideshow": {
     "slide_type": "notes"
    }
   },
   "source": [
    "genome = gene + ome, but including intergenic region, intron"
   ]
  },
  {
   "cell_type": "markdown",
   "metadata": {
    "slideshow": {
     "slide_type": "slide"
    }
   },
   "source": [
    "# Typical process (NGS raw data processing)\n",
    "\n",
    "1. Mapping / Alignment\n",
    "    - Map reads on a reference sequence\n",
    "2. De novo Assembly\n",
    "    - Make a reference sequence\n",
    "\n"
   ]
  },
  {
   "cell_type": "markdown",
   "metadata": {
    "slideshow": {
     "slide_type": "slide"
    }
   },
   "source": [
    "# Typical processes (NGS)\n",
    "\n",
    "1. Mapping / Alignment\n",
    "    - *Gene expression analysis* (RNA)\n",
    "    - *Variant calling/SNP calling/Genotyping* (DNA)\n",
    "        - population genetics, phylogenetics, genome wide association study\n",
    "\n",
    "2. De novo Assembly \n",
    "    - *Transcriptome* reference (RNA)\n",
    "    - *Genome* reference (DNA)\n",
    "\n"
   ]
  },
  {
   "cell_type": "markdown",
   "metadata": {
    "slideshow": {
     "slide_type": "slide"
    }
   },
   "source": [
    "# RNA-seq workflow <br><span class=\"smaller\">(Differential expression analysis)</span>\n",
    "\n",
    "<div class=\"row\">\n",
    "  <div class=\"column\" align=\"center\">\n",
    "    <img src=\"https://github.com/masaomi/Bio373_2023/blob/main/png/count_based_deg.png?raw=true\" width=\"500px\">\n",
    "  </div>\n",
    "  <div class=\"column\" align=\"left\">\n",
    "      <br>\n",
    "1. Sequencing<br>\n",
    "2. Quality control<br>\n",
    "3. Mapping / Alignment<br>\n",
    "4. Estimate gene expression level<br>\n",
    "5. Differentially expressed genes<br>\n",
    "6. Functional analysis<br>\n",
    "  </div>\n",
    "</div>\n",
    "\n",
    "<span class=\"small\">Simon Anders, et al., Count-based differential expression analysis of RNA sequencing data using R and Bioconductor, Nature Protocols, 2013, 8(9), 1765</span>\n",
    "\n"
   ]
  },
  {
   "cell_type": "markdown",
   "metadata": {
    "slideshow": {
     "slide_type": "slide"
    }
   },
   "source": [
    "# RNA-seq workflow <br><span class=\"smaller\">(RNAseq de novo assembly)</span>\n",
    "\n",
    "If you **DO NOT** have a reference genome\n",
    "1. Sequencing\n",
    "2. Quality control\n",
    "3. **De novo assembly** (transcriptome)\n",
    "4. Mapping / Alignment\n",
    "...\n",
    "or\n"
   ]
  },
  {
   "cell_type": "markdown",
   "metadata": {
    "slideshow": {
     "slide_type": "slide"
    }
   },
   "source": [
    "# DNA-seq workflow <br><span class=\"smaller\">(DNAseq de novo assembly)</span>\n",
    "\n",
    "If you **DO NOT** have a genome reference\n",
    "1. Sequencing\n",
    "2. Quality control\n",
    "3. **De novo assembly** (genome)\n",
    "4. Gene annotation, prediction\n",
    "\n"
   ]
  },
  {
   "cell_type": "markdown",
   "metadata": {
    "slideshow": {
     "slide_type": "slide"
    }
   },
   "source": [
    "# DNA-seq workflow <br><span class=\"smaller\">(Population Genomics)</span>\n",
    "\n",
    "If you **HAVE** a genome reference)\n",
    "1. Re-sequencing\n",
    "2. Quality control\n",
    "3. **Mapping / Alignment**\n",
    "4. **Variant calling,genotyping**\n",
    "5. Population genetics analysis, etc.\n"
   ]
  },
  {
   "cell_type": "markdown",
   "metadata": {
    "slideshow": {
     "slide_type": "slide"
    }
   },
   "source": [
    "# NGS workflows <br> (RNAseq/DNAseq)\n",
    "\n",
    "<div class=\"row\">\n",
    "  <div class=\"column\" align=\"center\">\n",
    "    <img src=\"https://github.com/masaomi/Bio373_2023/blob/main/png/SFG.png?raw=true\" width=\"500px\">\n",
    "  </div>\n",
    "  <div class=\"column\" align=\"left\">\n",
    "      <br>\n",
    "<br>\n",
    "      1. Sequencing<br>\n",
    "      2. Quality control<br>\n",
    "      3. Mapping / Alignment / De novo assembly<br>\n",
    "...\n",
    "  </div>\n",
    "</div>\n",
    "\n",
    "<span class=\"small\">http://sfg.stanford.edu/SFG.pdf</span>\n"
   ]
  },
  {
   "cell_type": "markdown",
   "metadata": {
    "slideshow": {
     "slide_type": "slide"
    }
   },
   "source": [
    "# RNA/DNA-seq workflow\n",
    "\n",
    "<span class=\"important\">Quality control</span>\n",
    "\n",
    "is necessary in any case\n"
   ]
  },
  {
   "cell_type": "markdown",
   "metadata": {
    "slideshow": {
     "slide_type": "slide"
    }
   },
   "source": [
    "# Mini summary (NGS workflow)"
   ]
  },
  {
   "cell_type": "markdown",
   "metadata": {
    "slideshow": {
     "slide_type": "fragment"
    }
   },
   "source": [
    "* Several workflows with RNA or DNA"
   ]
  },
  {
   "cell_type": "markdown",
   "metadata": {
    "slideshow": {
     "slide_type": "fragment"
    }
   },
   "source": [
    "* **Quality control** is necessary in any case \n",
    "    - check, check, and check..."
   ]
  },
  {
   "cell_type": "markdown",
   "metadata": {
    "slideshow": {
     "slide_type": "fragment"
    }
   },
   "source": [
    "* *Reference sequence* (genome/transcriptome) is necessary\n",
    "    - easier to study a model species, Arabidopsis , Human, Mouse...\n",
    "    - because you do not have to make the genome/transcriptome reference"
   ]
  },
  {
   "cell_type": "markdown",
   "metadata": {
    "slideshow": {
     "slide_type": "slide"
    }
   },
   "source": [
    "# Next\n",
    "\n",
    "* Quality control\n",
    "* Data format\n"
   ]
  },
  {
   "cell_type": "markdown",
   "metadata": {
    "slideshow": {
     "slide_type": "slide"
    }
   },
   "source": [
    "# What is quality control?\n",
    "\n",
    "  Quality control, or QC for short, is a process \n",
    "  by which entities review the quality of all factors \n",
    "  involved in production (Wikipedia)\n",
    "\n",
    "* Checking sequenced reads quality\n",
    "* Trimming bad quality parts of reads\n",
    "* Filtering adapter sequences\n",
    "\n",
    "(Note: these are bioinformatics parts right after the sequencing)\n"
   ]
  },
  {
   "cell_type": "markdown",
   "metadata": {
    "slideshow": {
     "slide_type": "slide"
    }
   },
   "source": [
    "# After sequencing\n",
    "\n",
    "e.g. Illumina HiSeq (fastq file)\n",
    "```\n",
    "@HWI-ST1357:71:D2FNTACXX:4:1101:1667:2141 1:N:0:CGA\n",
    "GCTGCAACTAACGGCATCTGAGTTACCCATTCAAATTTTTCGCGGCTGTGT\n",
    "+\n",
    "@@@DADBEHDCFD8:@EBHICGAC?4EG@FDHGDHGIIII??@?FA;B=CE\n",
    "@HWI-ST1357:71:D2FNTACXX:4:1101:1664:2223 1:N:0:CGA\n",
    "TGTTGGTTGAGGAGGGTATGGAGGAGGAGGGTAAGCTGACGATAGCGGAGG\n",
    "+\n",
    "```\n",
    "*How accurate are they?*"
   ]
  },
  {
   "cell_type": "markdown",
   "metadata": {
    "slideshow": {
     "slide_type": "slide"
    }
   },
   "source": [
    "#  Sequencing Error\n",
    "<br>\n",
    "<div class=\"row\">\n",
    "  <div class=\"column\" align=\"center\">\n",
    "    <img src=\"https://github.com/masaomi/Bio373_2023/blob/main/png/error_rate.png?raw=true\" height=\"400px\" width=\"500px\">\n",
    "    PacBio HiFi: 0.1% (https://www.pacb.com/technology/hifi-sequencing/)  \n",
    "  </div>\n",
    "  <div class=\"column\" align=\"left\">\n",
    "<b>Bias during sequencing</b><br>\n",
    "- Multi-step procedure<br>\n",
    "- Each step can introduce bias<br>\n",
    "- Over-representation of certain sequences/contaminations<br>\n",
    "  </div>\n",
    "</div>\n",
    "\n",
    "\n",
    "\n",
    "<span class=\"small\">http://www.navinlab.com/bioinfo/Next-Gen-Sequencing_NAVIN.pdf</span>\n"
   ]
  },
  {
   "cell_type": "markdown",
   "metadata": {
    "slideshow": {
     "slide_type": "slide"
    }
   },
   "source": [
    "# FASTQ format\n",
    "\n",
    "    @SEQ_ID\n",
    "    GATTTGGGGTTCAAAGCAGTATCGATCAAATAGTAAATCCATTTGTTCAACTC\n",
    "    +\n",
    "    !''*((((***+))%%%++)(%%%%).1***-+*''))**55CCF>>>>>>CC\n",
    "1. ID\n",
    "2. Sequence\n",
    "3. Nothing\n",
    "4. Quality (ASCII code)\n",
    "\n"
   ]
  },
  {
   "cell_type": "markdown",
   "metadata": {
    "slideshow": {
     "slide_type": "slide"
    }
   },
   "source": [
    "# FASTA format\n",
    "\n",
    "Nucleotides (*Arabidopsis thaliana*)\n",
    "\n",
    "\t>AT1G51370.2 | F-box domains-containing protein\n",
    "    ATGGTGGGTGGCAAGAAGAAAACCAAGATATGTGACAAAGTGTCACATG\n",
    "    TTTGATATCTGAAATACTTTTTCATCTTTCTACCAAGGACTCTGTCAGA\n",
    "    TTTGGCAATCGGTTCCTGGATTGGACTTAGACCCCTACGCATCCTCAAA\n",
    "1. **>** Annotation information \n",
    "2. Sequence\n",
    "\n",
    "**No base quality information**\n",
    "\n"
   ]
  },
  {
   "cell_type": "markdown",
   "metadata": {
    "slideshow": {
     "slide_type": "slide"
    }
   },
   "source": [
    "# FASTQ format\n",
    "    @SEQ_ID\n",
    "    GATTTGGGGTTCAAAGCAGTATCGATCAAATAGTAAATCCATTTGTTCAAC\n",
    "    +\n",
    "    !''*((((***+))%%%++)(%%%%).1***-+*''))**55CCF>>>>>>C\n",
    "1. ID\n",
    "2. Sequence\n",
    "3. Nothing\n",
    "4. **Quality** (ASCII code)\n"
   ]
  },
  {
   "cell_type": "markdown",
   "metadata": {
    "slideshow": {
     "slide_type": "slide"
    }
   },
   "source": [
    "<div class=\"question\">What is the quality?</div>"
   ]
  },
  {
   "cell_type": "markdown",
   "metadata": {
    "slideshow": {
     "slide_type": "slide"
    }
   },
   "source": [
    "# Phred quality score\n",
    "\n",
    "<div align=\"center\">\n",
    "    <img src=\"https://github.com/masaomi/Bio373_2023/blob/main/png/quality_score.png?raw=true\" height=\"400px\" width=\"500px\">\n",
    "</div>\n",
    "\n",
    "    Phred quality scores Q are defined as a property \n",
    "    which is logarithmically related to the base-calling \n",
    "    error probabilities (Wikipedia)\n",
    "\n",
    "\n",
    "\n"
   ]
  },
  {
   "cell_type": "markdown",
   "metadata": {
    "slideshow": {
     "slide_type": "slide"
    }
   },
   "source": [
    "# ASCII code (33-126)\n",
    "\n",
    "    33:! 34:\" 35:# 36:$ 37:% 38:& 39:' 40:(\n",
    "    41:) 42:* 43:+ 44:, 45:- 46:. 47:/ 48:0\n",
    "    49:1 50:2 51:3 52:4 53:5 54:6 55:7 56:8\n",
    "    57:9 58:: 59:; 60:< 61:= 62:> 63:? 64:@\n",
    "    65:A 66:B 67:C 68:D 69:E 70:F 71:G 72:H\n",
    "    73:I 74:J 75:K 76:L 77:M 78:N 79:O 80:P\n",
    "    81:Q 82:R 83:S 84:T 85:U 86:V 87:W 88:X\n",
    "    89:Y 90:Z 91:[ 92:\\ 93:] 94:^ 95:_ 96:`\n",
    "    97:a 98:b 99:c 100:d 101:e 102:f 103:g 104:h\n",
    "    105:i 106:j 107:k 108:l 109:m 110:n 111:o 112:p\n",
    "    113:q 114:r 115:s 116:t 117:u 118:v 119:w 120:x\n",
    "    121:y 122:z 123:{ 124:| 125:} 126:~"
   ]
  },
  {
   "cell_type": "markdown",
   "metadata": {
    "slideshow": {
     "slide_type": "subslide"
    }
   },
   "source": [
    "character = chr(Quality + 33) \n",
    "\n",
    "e.g. Phred quality score=30 $\\rightarrow$ ???"
   ]
  },
  {
   "cell_type": "markdown",
   "metadata": {
    "slideshow": {
     "slide_type": "subslide"
    }
   },
   "source": [
    "'?'"
   ]
  },
  {
   "cell_type": "markdown",
   "metadata": {
    "slideshow": {
     "slide_type": "slide"
    }
   },
   "source": [
    "# Phred quality score\n",
    "\n",
    "\n",
    "<div align=\"center\">\n",
    "    <img src=\"https://github.com/masaomi/Bio373_2023/blob/main/png/phred_scores.png?raw=true\" height=\"400px\" width=\"500px\">\n",
    "</div>\n",
    "\n",
    "* **Illumina 1.9** (Sanger format)\n",
    "* Scoring:0-41, Offset:33\n",
    "  \n",
    "<span class=\"small\">http://en.wikipedia.org/wiki/FASTQ_format</span>\n"
   ]
  },
  {
   "cell_type": "markdown",
   "metadata": {
    "slideshow": {
     "slide_type": "slide"
    }
   },
   "source": [
    "# Exercise1\n",
    "\n",
    "Calculate the average quality of the sequence (average quality score per base)\n",
    "\n",
    "    @SEQ_ID\n",
    "    GATTT\n",
    "    +\n",
    "    !''*(\n"
   ]
  },
  {
   "cell_type": "markdown",
   "metadata": {
    "slideshow": {
     "slide_type": "slide"
    }
   },
   "source": [
    "# Exercise1\n",
    "\n",
    "    ! = 33-33 = 0\n",
    "    ' = 39-33 = 6\n",
    "    ' = 39-33 = 6\n",
    "    * = 42-33 = 9\n",
    "    ( = 40-33 = 7\n",
    "\n",
    "Average quality score = (0+6+6+9+7)/5 = 5.6\n",
    "\n",
    "\n"
   ]
  },
  {
   "cell_type": "markdown",
   "metadata": {
    "slideshow": {
     "slide_type": "slide"
    }
   },
   "source": [
    "# Exercise2\n",
    "\n",
    "What is the base call accuracy of the character **A**, **!** and **I**  ?\n",
    "\n",
    "(Illumina 1.9 Phred Quality Score)\n",
    "\n"
   ]
  },
  {
   "cell_type": "markdown",
   "metadata": {
    "slideshow": {
     "slide_type": "slide"
    }
   },
   "source": [
    "# Exercise2\n",
    "\n",
    "    A = 65 - 33 = 32\n",
    "    P = 10^(32/-10) = 10^(-3.2) = 0.00063...\n",
    "    Accuracy = 99.9369...%\n",
    "    ! = 33 - 33 = 0\n",
    "    P = 10^(0/-10)  = 10^0 = 1 \n",
    "    Accuracy = 0.0%\n",
    "    I = 73 - 33 = 40\n",
    "    P = 10^(40/-10) = 10^(-4) = 0.0001\n",
    "    Accuracy = 99.99%\n",
    "\n"
   ]
  },
  {
   "cell_type": "markdown",
   "metadata": {
    "slideshow": {
     "slide_type": "slide"
    }
   },
   "source": [
    "# Software\n",
    "\n",
    "* FastQC: https://www.bioinformatics.babraham.ac.uk/projects/fastqc/\n",
    "* Fastp: https://github.com/OpenGene/fastp\n",
    "* Trimmomatic: http://www.usadellab.org/cms/?page=trimmomatic\n",
    "* PRINSEQ: http://prinseq.sourceforge.net/\n"
   ]
  },
  {
   "cell_type": "markdown",
   "metadata": {
    "slideshow": {
     "slide_type": "slide"
    }
   },
   "source": [
    "<div class=\"question\">FastQC</div>"
   ]
  },
  {
   "cell_type": "markdown",
   "metadata": {
    "slideshow": {
     "slide_type": "slide"
    }
   },
   "source": [
    "# Phred quality score distribution per base (Good case)\n",
    "\n",
    "<div align=\"center\">\n",
    "    <img src=\"https://github.com/masaomi/Bio373_2023/blob/main/png/good_quality.png?raw=true\" width=\"400px\">\n",
    "</div>\n",
    "\n",
    "<font color=\"red\">red</font>:median, <font color=\"blue\">blue</font>:average, box:25-75%, bar:10-90%\n"
   ]
  },
  {
   "cell_type": "markdown",
   "metadata": {
    "slideshow": {
     "slide_type": "slide"
    }
   },
   "source": [
    "# Phred quality score distribution per base (Bad case)\n",
    "\n",
    "<div align=\"center\">\n",
    "    <img src=\"https://github.com/masaomi/Bio373_2023/blob/main/png/bad_quality.png?raw=true\" width=\"400px\">\n",
    "</div>\n",
    " \n",
    "<font color=\"red\">red</font>:median, <font color=\"blue\">blue</font>:average, box:25-75%, bar:10-90%"
   ]
  },
  {
   "cell_type": "markdown",
   "metadata": {
    "slideshow": {
     "slide_type": "slide"
    }
   },
   "source": [
    "# Sequence content per base\n",
    "\n",
    "<div align=\"center\">\n",
    "    <img src=\"https://github.com/masaomi/Bio373_2023/blob/main/png/gc_content.png?raw=true\" width=\"1000px\">\n",
    "</div>\n"
   ]
  },
  {
   "cell_type": "markdown",
   "metadata": {
    "slideshow": {
     "slide_type": "slide"
    }
   },
   "source": [
    "# Overrepresented sequences\n",
    "\n",
    "<div align=\"center\">\n",
    "    <img src=\"https://github.com/masaomi/Bio373_2023/blob/main/png/overrepresented.png?raw=true\" width=\"900px\">\n",
    "</div>\n",
    "\n",
    "* Adapter contamination\n",
    "* Highly expressed transcripts\n",
    "* Less diversity library\n",
    "\n"
   ]
  },
  {
   "cell_type": "markdown",
   "metadata": {
    "slideshow": {
     "slide_type": "slide"
    }
   },
   "source": [
    "# Adapter contamination\n",
    "\n",
    "<div align=\"center\">\n",
    "    <img src=\"https://github.com/masaomi/Bio373_2023/blob/main/png/adapter.png?raw=true\" width=\"900px\">\n",
    "</div>\n",
    "\n",
    "* If the inserted DNA/RNA fragment is too short, the read will contain a part of adapter.\n"
   ]
  },
  {
   "cell_type": "markdown",
   "metadata": {
    "slideshow": {
     "slide_type": "slide"
    }
   },
   "source": [
    "# Example (RNA-seq from the previous Bio373)\n",
    "\n",
    "*Arabidopsis halleri*, Leaf, RNA, Ion PGM\n",
    "* [ahal_rna_sample1_fastqc.html](fastqc_examples/ahal_rna_sample1_fastqc.html)\n",
    "\n",
    "*Metrosideros polymorpha*, DNA, Illlumina HiSeq\n",
    "* [metros_dna_200_fastqc.html](fastqc_examples/metros_dna_200_fastqc.html)\n"
   ]
  },
  {
   "cell_type": "markdown",
   "metadata": {
    "slideshow": {
     "slide_type": "slide"
    }
   },
   "source": [
    "# PacBio RSII (Finger millet DNA)\n",
    "\n",
    "<div align=\"center\">\n",
    "    <img src=\"https://github.com/masaomi/Bio373_2023/blob/main/png/pacbio.png?raw=true\" width=\"700px\">\n",
    "</div>"
   ]
  },
  {
   "cell_type": "markdown",
   "metadata": {
    "slideshow": {
     "slide_type": "notes"
    }
   },
   "source": [
    "http://fgcz-gstore.uzh.ch/projects/p1555/QC_Fastqc_1671_2014-05-30--04-07-59/QC_Result/20140514.A-C3_505_200-R1_fastqc/fastqc_report.html\n"
   ]
  },
  {
   "cell_type": "markdown",
   "metadata": {
    "slideshow": {
     "slide_type": "slide"
    }
   },
   "source": [
    "# Example (RNA-seq from the previous Bio373)\n",
    "\n",
    "*Arabidopsis halleri*, Leaf, RNA, Ion PGM\n",
    "* [ahal_rna_sample1_fastqc.html](fastqc_examples/ahal_rna_sample1_fastqc.html)\n",
    "\n",
    "After trimming (by Trimmomatic)\n",
    "* [ahal_rna_sample1_trimmed_fastqc.html](fastqc_examples/ahal_rna_sample1_trimmed_fastqc.html)\n",
    "\n"
   ]
  },
  {
   "cell_type": "markdown",
   "metadata": {
    "slideshow": {
     "slide_type": "slide"
    }
   },
   "source": [
    "#  Check Contamination\n",
    "\n",
    "If other species DNA/RNA is contaminated,\n",
    "\n",
    "* RNAseq (Differential expression analysis) \n",
    "    - **usable** (depends on the situation/purpose)\n",
    "* DNAseq (De novo assembly, SNP calling) \n",
    "    - **big problem**\n",
    "\n",
    "FastqScreen: http://www.bioinformatics.babraham.ac.uk/projects/fastq_screen/\n",
    "\n"
   ]
  },
  {
   "cell_type": "markdown",
   "metadata": {
    "slideshow": {
     "slide_type": "slide"
    }
   },
   "source": [
    "# Example\n",
    "\n",
    "A bug mRNA contamination in *A. halleri* RNAseq\n",
    "<div align=\"center\">\n",
    "    <img src=\"https://github.com/masaomi/Bio373_2023/blob/main/png/fastqscreen_reinhold.png?raw=true\" width=\"400px\">\n",
    "</div>\n",
    "\n"
   ]
  },
  {
   "cell_type": "markdown",
   "metadata": {
    "slideshow": {
     "slide_type": "slide"
    }
   },
   "source": [
    "# Mini summary (preprocessing)\n",
    "\n",
    "Before NGS data processing\n",
    "* **Quality control** **★**\n",
    "* Sequencing error/bias\n",
    "* Phred quality score"
   ]
  },
  {
   "cell_type": "markdown",
   "metadata": {
    "slideshow": {
     "slide_type": "subslide"
    }
   },
   "source": [
    "If bad quality,\n",
    " - **sequencing again** (sample prep. again?)\n",
    " - **trimming/filtering** (total reads decrease)"
   ]
  },
  {
   "cell_type": "markdown",
   "metadata": {
    "slideshow": {
     "slide_type": "slide"
    }
   },
   "source": [
    "# Mini summary (Quality control)\n",
    "\n",
    "1. Check read quality\n",
    "    * Sequence quality\n",
    "    * Read length distribution\n",
    "    * Contamination\n",
    "2. Filtering & Trimming\n",
    "    * Filtering low quality read \n",
    "    * Trimming low quality part/adapter/contamination\n",
    "\n"
   ]
  }
 ],
 "metadata": {
  "celltoolbar": "Slideshow",
  "kernelspec": {
   "display_name": "Python 3 (ipykernel)",
   "language": "python",
   "name": "python3"
  },
  "language_info": {
   "codemirror_mode": {
    "name": "ipython",
    "version": 3
   },
   "file_extension": ".py",
   "mimetype": "text/x-python",
   "name": "python",
   "nbconvert_exporter": "python",
   "pygments_lexer": "ipython3",
   "version": "3.10.10"
  },
  "rise": {
   "chalkboard": {
    "color": [
     "rgb(250, 150, 150)",
     "rgb(250, 150, 150)"
    ]
   },
   "enable_chalkboard": true,
   "header": "<h3>Bio373 2023</h3>",
   "progress": true,
   "scroll": true,
   "slideNumber": "c/t",
   "theme": "serif",
   "transition": "zoom"
  }
 },
 "nbformat": 4,
 "nbformat_minor": 4
}
