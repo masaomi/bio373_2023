{
 "cells": [
  {
   "cell_type": "markdown",
   "metadata": {
    "slideshow": {
     "slide_type": "slide"
    }
   },
   "source": [
    "# Bio373 NGS Bioinformatics\n",
    "\n",
    "* 21 Sep,  2023\n",
    "* Masaomi Hatakeyama\n",
    "    - https://github.com/masaomi/bio373_2023\n"
   ]
  },
  {
   "cell_type": "markdown",
   "metadata": {
    "slideshow": {
     "slide_type": "slide"
    }
   },
   "source": [
    "# Contents Today\n",
    "\n",
    "1. Basic NGS analyses 13:00-14:00\n",
    "    - De novo assembly, RNAseq analysis\n",
    "1. **Basic Informatics** 14:00-15:00\n",
    "    - Operating System, File System, Commands\n",
    "1. Practice 15:00-17:00\n",
    "    - Server access setting, file edit/transfer\n",
    "    - fasta/fastq file, quality control"
   ]
  },
  {
   "cell_type": "markdown",
   "metadata": {
    "slideshow": {
     "slide_type": "slide"
    }
   },
   "source": [
    " #  Required Skills computationally\n",
    "\n",
    "* **Unix Operation** (command typing)\n",
    "    * Many programs run on Unix\n",
    "    * Data is stored on Unix\n",
    "* **Scripting** (Programming)\n",
    "    * Software does not do everything\n",
    "    * You need data conversion/processing by yourself"
   ]
  },
  {
   "cell_type": "markdown",
   "metadata": {
    "slideshow": {
     "slide_type": "slide"
    }
   },
   "source": [
    "# What is Unix?\n",
    "\n",
    "Wikipedia\n",
    "```\n",
    "  Unix (officially trademarked as UNIX) is a\n",
    "  multitasking,\n",
    "  multi-user computer\n",
    "  operating system\n",
    "  originally developed in 1969 by a group of \n",
    "  AT&T employees at Bell Labs,\n",
    "```\n",
    "\n",
    "**Operating System**\n",
    "  * Multi-Tasking: some programs run at the same time\n",
    "  * Multi-User: some users can operate at the same time"
   ]
  },
  {
   "cell_type": "markdown",
   "metadata": {
    "slideshow": {
     "slide_type": "slide"
    }
   },
   "source": [
    "# What is operating system?\n",
    "\n",
    "<div class=\"row\">\n",
    "  <div class=\"column\" align=\"center\">\n",
    "    <img src=\"https://github.com/masaomi/bio373_2023/blob/main/png/os.png?raw=true\" width=\"600px\">\n",
    "  </div>\n",
    "  <div class=\"column\" align=\"left\">\n",
    "<br>\n",
    "    Operating system<br>\n",
    "    = Basic software<br><br>\n",
    "    TWO Popular OSs<br>\n",
    "        1. WindowsXX<br>\n",
    "        2. Unix<br>\n",
    "      \n",
    "  </div>\n",
    "</div>\n",
    "  \n"
   ]
  },
  {
   "cell_type": "markdown",
   "metadata": {
    "slideshow": {
     "slide_type": "notes"
    }
   },
   "source": [
    "* Application software\n",
    "* Body and mind"
   ]
  },
  {
   "cell_type": "markdown",
   "metadata": {
    "slideshow": {
     "slide_type": "slide"
    }
   },
   "source": [
    "# Unix history (phylogeny)\n",
    "\n",
    "<div align=\"center\">\n",
    "    <img src=\"https://github.com/masaomi/bio373_2023/blob/main/png/unix_history.png?raw=true\" width=\"600px\">\n",
    "</div>\n",
    "\n",
    "Wikipedia\n"
   ]
  },
  {
   "cell_type": "markdown",
   "metadata": {
    "slideshow": {
     "slide_type": "slide"
    }
   },
   "source": [
    "# Unix and Unix-like OS\n",
    "\n",
    "* AIX, IBM\n",
    "* HP-UX, Hewlett-Packard\n",
    "* Soralis, Sun Microsystems\n",
    "* macOS (Mac OS X), iOS, Apple, 10.5-\n",
    "* Android, Google\n",
    "* Linux, FreeBSD, Open Source"
   ]
  },
  {
   "cell_type": "markdown",
   "metadata": {
    "slideshow": {
     "slide_type": "slide"
    }
   },
   "source": [
    "# Linux Distribution\n",
    "\n",
    "<div class=\"row\">\n",
    "  <div class=\"column\" align=\"center\">\n",
    "    <img src=\"https://github.com/masaomi/bio373_2023/blob/main/png/gnu-linux-distribution-timeline.png?raw=true\" width=\"600px\">\n",
    "  </div>\n",
    "  <div class=\"column\" align=\"left\">\n",
    "      <br>\n",
    "1. Debian - Ubuntu      <br> \n",
    "2. Slackware - SuSE     <br>\n",
    "3. RedHat - CentOS     <br>\n",
    "    </div>\n",
    "</div>\n",
    "\n",
    "<span class=\"small\">\n",
    "https://cognitivewaves.wordpress.com/linux-distributions/</span>\n"
   ]
  },
  {
   "cell_type": "markdown",
   "metadata": {
    "slideshow": {
     "slide_type": "slide"
    }
   },
   "source": [
    "# Ken's group server spec\n",
    "\n",
    "Science cloud node (S3IT)\n",
    "* Debian Linux Operating System (Debian10)\n",
    "* 128 GB RAM Randam Access Memory\n",
    "* 16 cores CPU Central Processing Unit\n",
    "* Intel Xeon Processor\n",
    "* 2 TB Hard-Disk (/scratch)\n"
   ]
  },
  {
   "cell_type": "markdown",
   "metadata": {
    "slideshow": {
     "slide_type": "subslide"
    }
   },
   "source": [
    "# Amount of Information originally\n",
    "\n",
    "* bit: binary digit: 0/1\n",
    "* 1 byte = 8 bit\n",
    "* 1 KB = 1024 byte\n",
    "* 1 MB = 1024 KB\n",
    "* 1 GB = 1024 MB\n",
    "* 1 TB = 1024 GB"
   ]
  },
  {
   "cell_type": "markdown",
   "metadata": {
    "slideshow": {
     "slide_type": "subslide"
    }
   },
   "source": [
    "# Amount of Information recently\n",
    "\n",
    "* bit: binary digit: 0/1\n",
    "* 1 byte = 8 bit\n",
    "* 1 KB = 1000 byte\n",
    "* 1 MB = 1000 KB\n",
    "* 1 GB = 1000 MB\n",
    "* 1 TB = 1000 GB"
   ]
  },
  {
   "cell_type": "markdown",
   "metadata": {
    "slideshow": {
     "slide_type": "subslide"
    }
   },
   "source": [
    "# Amount of Information recently\n",
    "\n",
    "* 1 KiB = 1024 byte, Kilobinary byte, Kibi byte\n",
    "* 1 MiB = 1024 KiB, Megabinary byte, Mebi byte\n",
    "* 1 GiB = 1024 MiB, Gigabinary byte, Gibi byte\n",
    "* 1 TiB = 1024 GiB, Terabinary byte, Tebi byte\n"
   ]
  },
  {
   "cell_type": "markdown",
   "metadata": {
    "slideshow": {
     "slide_type": "subslide"
    }
   },
   "source": [
    "# Amount of Nucleotides\n",
    "\n",
    "* 1 bp = base-pair\n",
    "* 1 kb = 1000 bp\n",
    "* 1 Mb = 1000 kb\n",
    "* 1 Gb = 1000 Mb\n"
   ]
  },
  {
   "cell_type": "markdown",
   "metadata": {
    "slideshow": {
     "slide_type": "subslide"
    }
   },
   "source": [
    "# Amount (nucleotide length) of DNA\n",
    "\n",
    "* base-pair (bp)\n",
    "* Human genome: 3.2 Gb Giga-basepairs (per haploid genome, actually 6.4 Gb)\n",
    "* *Arabidopsis thaliana*: 119 Mb\n",
    "* *Escherichia coli*: 4.6 Mb\n",
    "* *Triticum aestivum* (Wheat) : 17 Gb\n"
   ]
  },
  {
   "cell_type": "markdown",
   "metadata": {
    "slideshow": {
     "slide_type": "subslide"
    }
   },
   "source": [
    "# Exercise\n",
    "\n",
    "* How many bytes of RAM is necessary to load Human genome data in a computer?\n",
    "* 1 base nucleotide needs 1 byte memory space\n"
   ]
  },
  {
   "cell_type": "markdown",
   "metadata": {
    "slideshow": {
     "slide_type": "subslide"
    }
   },
   "source": [
    "# NGS sequencing cost\n",
    "\n",
    "  <div align=\"center\">\n",
    "    <img src=\"https://github.com/masaomi/bio373_2023/blob/main/png/cost_per_genome.jpg?raw=true\" width=\"500px\">\n",
    "  </div>\n",
    "  \n",
    "* < 50 CHF/Gb, Illumina NovaSeq, FGCZ\n"
   ]
  },
  {
   "cell_type": "markdown",
   "metadata": {
    "slideshow": {
     "slide_type": "slide"
    }
   },
   "source": [
    "# 2 UI Types\n",
    "<div class=\"row\">\n",
    "  <div class=\"column\" align=\"center\">\n",
    "    <img src=\"https://github.com/masaomi/bio373_2023/blob/main/png/ui.png?raw=true\" width=\"600px\">\n",
    "  </div>\n",
    "  <div class=\"column\" align=\"left\">\n",
    "      <br>\n",
    "GUI:<br>\n",
    "  - Graphical User Interface<br>\n",
    "  - Mouse Click, Drag<br><br>\n",
    "CLI:<br>\n",
    "  - Command Line Interface<br>\n",
    "  - Command typing<br>\n",
    "    </div>\n",
    "</div>\n",
    "    "
   ]
  },
  {
   "cell_type": "markdown",
   "metadata": {
    "slideshow": {
     "slide_type": "slide"
    }
   },
   "source": [
    "# CLI Pros\n",
    "\n",
    "1. Fast development\n",
    "    - CUI application is implemented first\n",
    "2. Quick operation\n",
    "    - x 10 times faster\n",
    "3. Batch process\n",
    "    - While you are sleeping\n",
    "4. Remote control\n",
    "    - from all over the world (as long as the Internet is available)\n"
   ]
  },
  {
   "cell_type": "markdown",
   "metadata": {
    "slideshow": {
     "slide_type": "slide"
    }
   },
   "source": [
    "# CLI Cons\n",
    "\n",
    "1. Not intuitive\n",
    "    * No menu\n",
    "    * Not user friendly\n",
    "    * Need to learn concepts/mechanisms\n",
    "2. Commands\n",
    "    * Tons of commands and options\n",
    "    * Cost for learning\n",
    "\n",
    "\n",
    "<img src=\"https://github.com/masaomi/bio373_2023/blob/main/png/CLI_image.png?raw=true\" width=\"300px\" style=\"float: right;\">"
   ]
  },
  {
   "cell_type": "markdown",
   "metadata": {
    "slideshow": {
     "slide_type": "slide"
    }
   },
   "source": [
    "# Next\n",
    "\n",
    "1. Unix file system\n",
    "1. Basic commands\n",
    "1. Script"
   ]
  },
  {
   "cell_type": "markdown",
   "metadata": {
    "slideshow": {
     "slide_type": "slide"
    }
   },
   "source": [
    "# Important concepts: Unix\n",
    "\n",
    "1. File system: Tree structure\n",
    "2. Directory: Current, Home, Root, Parent\n",
    "3. Path: File and Directory location\n"
   ]
  },
  {
   "cell_type": "markdown",
   "metadata": {
    "slideshow": {
     "slide_type": "fragment"
    }
   },
   "source": [
    "*You have to construct the tree image in your mind*"
   ]
  },
  {
   "cell_type": "markdown",
   "metadata": {
    "slideshow": {
     "slide_type": "slide"
    }
   },
   "source": [
    "# File system\n",
    "\n",
    "<div align=\"center\">\n",
    "    <img src=\"https://github.com/masaomi/bio373_2023/blob/main/png/tree.png?raw=true\" width=\"300px\">\n",
    "</div>\n",
    "\n",
    "* Tree structure\n",
    "  * File\n",
    "  * Directory (Folder)"
   ]
  },
  {
   "cell_type": "markdown",
   "metadata": {
    "slideshow": {
     "slide_type": "slide"
    }
   },
   "source": [
    "# File system\n",
    "\n",
    "<div align=\"center\">\n",
    "    <img src=\"https://github.com/masaomi/bio373_2023/blob/main/png/tree_updown.png?raw=true\" width=\"200px\">\n",
    "</div>\n",
    "\n",
    "\n",
    "* Leaf: File\n",
    "* Branch: Directory\n",
    "\n",
    "Home, Root, Current, Parent"
   ]
  },
  {
   "cell_type": "markdown",
   "metadata": {
    "slideshow": {
     "slide_type": "slide"
    }
   },
   "source": [
    "# Directory\n",
    "\n",
    "* **Current directory**: the directory where you are working\n",
    "* **Home directory**: the first working directory when you log-in the computer\n",
    "* **Root directory**: the top directory\n",
    "* **Parent directory**: the upper directory of the current directory\n"
   ]
  },
  {
   "cell_type": "markdown",
   "metadata": {
    "slideshow": {
     "slide_type": "slide"
    }
   },
   "source": [
    "# Path (File/Dir location)\n",
    "\n",
    "\n",
    "<div align=\"center\">\n",
    "    <img src=\"https://github.com/masaomi/bio373_2023/blob/main/png/path.png?raw=true\" width=\"300px\">\n",
    "</div>\n",
    "\n",
    "\n",
    "* **Absolute path**: from the Root directory\n",
    "* **Relative path**: from the Current directory"
   ]
  },
  {
   "cell_type": "markdown",
   "metadata": {
    "slideshow": {
     "slide_type": "slide"
    }
   },
   "source": [
    "# Path File/Dir location\n",
    "\n",
    "<div class=\"row\">\n",
    "  <div class=\"column\" align=\"center\">\n",
    "    <img src=\"https://github.com/masaomi/bio373_2023/blob/main/png/path1.png?raw=true\" width=\"600px\">\n",
    "  </div>\n",
    "  <div class=\"column\" align=\"left\">\n",
    "      <br>\n",
    "Absolute path<br>\n",
    "      - <b>/DirA/File1</b><br>\n",
    "      <br>\n",
    "Relative path<br>\n",
    "  - from Current<br>\n",
    "    </div>\n",
    "</div>\n",
    "    \n",
    "\n",
    "\n"
   ]
  },
  {
   "cell_type": "markdown",
   "metadata": {
    "slideshow": {
     "slide_type": "slide"
    }
   },
   "source": [
    "# Path File/Dir location\n",
    "\n",
    "<div class=\"row\">\n",
    "  <div class=\"column\" align=\"center\">\n",
    "    <img src=\"https://github.com/masaomi/bio373_2023/blob/main/png/path2.png?raw=true\" width=\"600px\">\n",
    "  </div>\n",
    "  <div class=\"column\" align=\"left\">\n",
    "      <br>\n",
    "Absolute path<br>\n",
    "      - /DirA/File1<br>\n",
    "      <br>\n",
    "Relative path<br>\n",
    "      - <b>from Current</b><br>\n",
    "    </div>\n",
    "</div>\n",
    "    \n",
    "\n",
    "\n"
   ]
  },
  {
   "cell_type": "markdown",
   "metadata": {
    "slideshow": {
     "slide_type": "slide"
    }
   },
   "source": [
    "# Path File/Dir location\n",
    "\n",
    "<div class=\"row\">\n",
    "  <div class=\"column\" align=\"center\">\n",
    "    <img src=\"https://github.com/masaomi/bio373_2023/blob/main/png/path3.png?raw=true\" width=\"600px\">\n",
    "  </div>\n",
    "  <div class=\"column\" align=\"left\">\n",
    "      <br>\n",
    "Absolute path<br>\n",
    "      - /DirA/File1<br>\n",
    "      <br>\n",
    "Relative path<br>\n",
    "      - <b>../File1</b><br>\n",
    "    </div>\n",
    "</div>\n",
    "    \n",
    "\n",
    "\n"
   ]
  },
  {
   "cell_type": "markdown",
   "metadata": {
    "slideshow": {
     "slide_type": "notes"
    }
   },
   "source": [
    "* Absolute path: only one\n",
    "* Relative path: several ways\n",
    " * ../../DirA/File1, ../../DirB/../DirA/File1"
   ]
  },
  {
   "cell_type": "markdown",
   "metadata": {
    "slideshow": {
     "slide_type": "slide"
    }
   },
   "source": [
    "# Directory\n",
    "\n",
    "* **Current directory**: a directory where you are working\n",
    "* **Home directory**: the first working directory when you log-in the computer\n",
    "* **Root directory**: the top directory\n",
    "* **Parent directory**: the upper directory of the current directory\n"
   ]
  },
  {
   "cell_type": "markdown",
   "metadata": {
    "slideshow": {
     "slide_type": "slide"
    }
   },
   "source": [
    "# Directory folder\n",
    "\n",
    "* Current directory: <font color=red>.</font>\n",
    "* Home directory: <font color=red>~</font>\n",
    "* Root directory: <font color=red>/</font> (directory separator)\n",
    "* Parent directory: <font color=red>..</font>\n"
   ]
  },
  {
   "cell_type": "markdown",
   "metadata": {
    "slideshow": {
     "slide_type": "slide"
    }
   },
   "source": [
    "# Exercise\n",
    "\n",
    "When you are working at */home/user/work* directory, where is the parent directory?"
   ]
  },
  {
   "cell_type": "markdown",
   "metadata": {
    "slideshow": {
     "slide_type": "fragment"
    }
   },
   "source": [
    "You are now working at your home directory,\n",
    "*/home/user*. Describe the location of the file,\n",
    "*/home/work/file1.txt*, using relative path."
   ]
  },
  {
   "cell_type": "markdown",
   "metadata": {
    "slideshow": {
     "slide_type": "slide"
    }
   },
   "source": [
    "# Unix command\n",
    "\n",
    "What you have to do next:\n",
    "\n",
    "1. Understand tons of commands & functions\n",
    "2. Type commands on terminal \n",
    "    - type, type, and type, over and over again\n",
    "\n",
    "Tips: Search by Google | ask me (*if you want to know more about the function and/or usage*)\n",
    "\n"
   ]
  },
  {
   "cell_type": "markdown",
   "metadata": {
    "slideshow": {
     "slide_type": "slide"
    }
   },
   "source": [
    "# Basic commands\n",
    "\n",
    "1. Directory Control\n",
    "    * Change, Create, View, Copy, Move, Delete\n",
    "1. File Control\n",
    "    * View, Copy, Move, Delete\n",
    "    * Edit, Text Editor"
   ]
  },
  {
   "cell_type": "markdown",
   "metadata": {
    "slideshow": {
     "slide_type": "slide"
    }
   },
   "source": [
    "# Terminal\n",
    "\n",
    "<div align=\"center\">\n",
    "    <img src=\"https://github.com/masaomi/bio373_2023/blob/main/png/terminal.png?raw=true\" width=\"400px\">\n",
    "</div>\n",
    "\n",
    "* **$** : prompt\n",
    "* You can confirm on which server you are working before the prompt\n"
   ]
  },
  {
   "cell_type": "markdown",
   "metadata": {
    "slideshow": {
     "slide_type": "slide"
    }
   },
   "source": [
    "# Command format\n",
    "\n",
    "    command [options] [arguments]\n",
    "    command -h\n",
    "    command --help\n",
    "    man command\n",
    "\n",
    "Search by Google, like \"unix command XXX\", or ask ChatGPT/Bing, \"how to use xxx in unix?\"\n"
   ]
  },
  {
   "cell_type": "markdown",
   "metadata": {
    "slideshow": {
     "slide_type": "slide"
    }
   },
   "source": [
    "# Basic commands\n",
    "\n",
    "1. Make a directory: *mkdir*\n",
    "2. Find a file/directory: *cd, pwd, ls*\n",
    "3. Copy, Move a file/directory: *cp, mv*\n",
    "4. Delete a file/directory: *rm, rmdir*\n",
    "5. View/Edit a file: *cat, less, nano*\n",
    "\n"
   ]
  },
  {
   "cell_type": "markdown",
   "metadata": {
    "slideshow": {
     "slide_type": "slide"
    }
   },
   "source": [
    "# **M**a**K**e a **DIR**ectory *mkdir*\n",
    "\n",
    "  mkdir [dir name]\n",
    "\n",
    "$ mkdir my_dir\n",
    "\n",
    "$ mkdir work_dir"
   ]
  },
  {
   "cell_type": "markdown",
   "metadata": {
    "slideshow": {
     "slide_type": "slide"
    }
   },
   "source": [
    "# **L**i**S**t files/directories *ls*\n",
    "\n",
    "    ls ([dir name])\n",
    "    ls -l ([dir name])\n",
    "    ls -lh ([dir name])\n",
    "\n",
    "$ ls\n",
    "\n",
    "$ ls ..\n",
    "\n",
    "$ ls /home/masa"
   ]
  },
  {
   "cell_type": "markdown",
   "metadata": {
    "slideshow": {
     "slide_type": "slide"
    }
   },
   "source": [
    "# Exercise\n",
    "\n",
    "Make *your_name* directory in home directory\n",
    ", and make sure it is certainly made there\n",
    "\n",
    "    mkdir masa\n",
    "    ls\n",
    "\n",
    "*Demonstration*\n",
    "\n",
    "*Check it also in Finder*\n"
   ]
  },
  {
   "cell_type": "markdown",
   "metadata": {
    "slideshow": {
     "slide_type": "slide"
    }
   },
   "source": [
    "# **C**hange working **D**irectory *cd*\n",
    "\n",
    "    cd [dir path]\n",
    "\n",
    "$ cd\n",
    "\n",
    "$ cd /home/masa/work\n",
    "\n",
    "$ cd ..\n"
   ]
  },
  {
   "cell_type": "markdown",
   "metadata": {
    "slideshow": {
     "slide_type": "slide"
    }
   },
   "source": [
    "# **P**rint **W**orking **D**irectory *pwd*\n",
    "\n",
    "    pwd\n",
    "\n",
    "$ pwd\n",
    "\n",
    "\n",
    "* It shows absolute path of the current directory\n"
   ]
  },
  {
   "cell_type": "markdown",
   "metadata": {
    "slideshow": {
     "slide_type": "slide"
    }
   },
   "source": [
    "# Exercise\n",
    "\n",
    "Change the working directory to ~/*your_account*, and check the absolute path of the current directory\n",
    "\n",
    " $ cd ~/masaomi\n",
    "\n",
    " $ pwd\n"
   ]
  },
  {
   "cell_type": "markdown",
   "metadata": {
    "slideshow": {
     "slide_type": "slide"
    }
   },
   "source": [
    "# View file content\n",
    "\n",
    "    cat [file]\n",
    "    less [file]\n",
    "\n",
    "$ cat file.txt\n",
    "\n",
    "$ less file.txt\n",
    "\n",
    "$ more file.txt"
   ]
  },
  {
   "cell_type": "markdown",
   "metadata": {
    "slideshow": {
     "slide_type": "slide"
    }
   },
   "source": [
    "# Edit a file nano editor\n",
    "\n",
    "    nano [file name]\n",
    "    vi [file name]\n",
    "    emacs [file name]"
   ]
  },
  {
   "cell_type": "markdown",
   "metadata": {
    "slideshow": {
     "slide_type": "notes"
    }
   },
   "source": [
    "demo: nano"
   ]
  },
  {
   "cell_type": "markdown",
   "metadata": {
    "slideshow": {
     "slide_type": "slide"
    }
   },
   "source": [
    "# TextEdit only macOS\n",
    "\n",
    "<div align=\"center\">\n",
    "    <img src=\"https://github.com/masaomi/bio373_2023/blob/main/png/textedit.png?raw=true\" width=\"700px\">\n",
    "</div>"
   ]
  },
  {
   "cell_type": "markdown",
   "metadata": {
    "slideshow": {
     "slide_type": "slide"
    }
   },
   "source": [
    "# TextEdit Plain Text Setting\n",
    "\n",
    "<div align=\"center\">\n",
    "    <img src=\"https://github.com/masaomi/bio373_2023/blob/main/png/plaintext.png?raw=true\" width=\"700px\">\n",
    "</div>\n"
   ]
  },
  {
   "cell_type": "markdown",
   "metadata": {
    "slideshow": {
     "slide_type": "slide"
    }
   },
   "source": [
    "# 2 File Types\n",
    "\n",
    "1. Text File\n",
    "  * Only character\n",
    "  *  *Text-Editor can open it* \n",
    "  * cat, less, vi commands are available\n",
    "2. Binary File\n",
    "  * Image, Music, etc.\n",
    "  * Executable file\n",
    "  * *Text-Editor CANNOT open it*\n"
   ]
  },
  {
   "cell_type": "markdown",
   "metadata": {
    "slideshow": {
     "slide_type": "slide"
    }
   },
   "source": [
    "# Check file type\n",
    "\n",
    "    file [file name]\n",
    "\n",
    "\n",
    "If you do not know what type of a file it is, I recommend checking the file type everytime before opening it by text editor or *cat*, *less* command."
   ]
  },
  {
   "cell_type": "markdown",
   "metadata": {
    "slideshow": {
     "slide_type": "slide"
    }
   },
   "source": [
    "# **C**o**P**y a file *cp*\n",
    "\n",
    "    cp [original file] [target]\n",
    "    cp -r [original dir] [target]\n",
    "\n",
    "$ cp file1.txt file2.txt\n",
    "\n",
    "$ cp file1.txt dir1/\n",
    "\n",
    "$ cp file1.txt .."
   ]
  },
  {
   "cell_type": "markdown",
   "metadata": {
    "slideshow": {
     "slide_type": "slide"
    }
   },
   "source": [
    "# **M**o**V**e/Rename a file *mv*\n",
    "\n",
    "    mv [original] [taget]\n",
    "\n",
    "$ mv file1.txt file2.txt\n",
    "\n",
    "$ mv file1.txt dir1/\n",
    "\n",
    "$ mv file1.txt ..\n"
   ]
  },
  {
   "cell_type": "markdown",
   "metadata": {
    "slideshow": {
     "slide_type": "slide"
    }
   },
   "source": [
    "# **RM**ove a file *rm*\n",
    "\n",
    "    rm [file name]\n",
    "    rm -r [dir name]\n",
    "\n",
    "$ rm file1.txt\n",
    "\n",
    "$ rm -r dir1\n",
    "\n",
    "Caveat!! **Impossible to restore!!** <font color=\"red\">The most dangerous command!!</font>\n"
   ]
  },
  {
   "cell_type": "markdown",
   "metadata": {
    "slideshow": {
     "slide_type": "slide"
    }
   },
   "source": [
    "# Useful Tips 1\n",
    "\n",
    "* Kill Job: Ctrl+c\n",
    "* Copy: Cmd+c\n",
    "* Paste: Cmd+v\n",
    "\n"
   ]
  },
  {
   "cell_type": "markdown",
   "metadata": {
    "slideshow": {
     "slide_type": "notes"
    }
   },
   "source": [
    "demo: cat big file, ctrl+c\n",
    "\n"
   ]
  },
  {
   "cell_type": "markdown",
   "metadata": {
    "slideshow": {
     "slide_type": "slide"
    }
   },
   "source": [
    "# Useful Tips 2\n",
    "\n",
    "* Command history\n",
    "* Tab completion"
   ]
  },
  {
   "cell_type": "markdown",
   "metadata": {
    "slideshow": {
     "slide_type": "slide"
    }
   },
   "source": [
    "# Command history\n",
    "\n",
    "    history\n",
    "    !!\n",
    "    ![number]\n",
    "\n",
    "* The cursor Key also calls command history\n"
   ]
  },
  {
   "cell_type": "markdown",
   "metadata": {
    "slideshow": {
     "slide_type": "slide"
    }
   },
   "source": [
    "# Tab completion\n",
    "\n",
    "* List possible candidates command, file/dir, path\n",
    "* Complete command name and file name and path\n",
    "\n",
    "Example\n",
    "\n",
    " pw[TAB][TAB]\n",
    "\n",
    " ls [TAB][TAB]\n",
    "\n",
    "\n",
    "*This is very useful to avoid typos*\n"
   ]
  },
  {
   "cell_type": "markdown",
   "metadata": {
    "slideshow": {
     "slide_type": "slide"
    }
   },
   "source": [
    "# Useful tips 3\n",
    "\n",
    "* Redirection\n",
    "* Pipe\n",
    "* Compression\n"
   ]
  },
  {
   "cell_type": "markdown",
   "metadata": {
    "slideshow": {
     "slide_type": "slide"
    }
   },
   "source": [
    "# Redirection\n",
    "\n",
    "* Change standard input/output\n",
    "\n",
    "Example\n",
    "\n",
    "    ls > file_list.dat\n",
    "    cat file_list.dat"
   ]
  },
  {
   "cell_type": "markdown",
   "metadata": {
    "slideshow": {
     "slide_type": "slide"
    }
   },
   "source": [
    "# Pipe\n",
    "\n",
    "* Concatenate two commands\n",
    "\n",
    "Example\n",
    "\n",
    "    history | grep 'cat'\n",
    "    ls -l | sort -k 4\n",
    "\n",
    "* grep: search a word in a file\n",
    "* sort: sort lines\n"
   ]
  },
  {
   "cell_type": "markdown",
   "metadata": {
    "slideshow": {
     "slide_type": "slide"
    }
   },
   "source": [
    "# Compress/Decompress\n",
    "\n",
    "* Compact a file\n",
    "* Compress algorithms (commands)\n",
    "  * gzip\n",
    "  * zip\n",
    "  * bzip2\n",
    "  * etc.\n"
   ]
  },
  {
   "cell_type": "markdown",
   "metadata": {
    "slideshow": {
     "slide_type": "slide"
    }
   },
   "source": [
    "# Compress/Decompress (file)\n",
    "\n",
    "Compress\n",
    "\n",
    "    gzip [file]\n",
    "\n",
    "Decompress\n",
    "\n",
    "    gunzip [file]\n"
   ]
  },
  {
   "cell_type": "markdown",
   "metadata": {
    "slideshow": {
     "slide_type": "slide"
    }
   },
   "source": [
    "# Compress/Decompress (directory)\n",
    "\n",
    "Compress tar + gzip\n",
    "\n",
    "    tar zcvf [archive name] [dir]\n",
    "\n",
    "Decompress tar + gzip\n",
    "\n",
    "    tar zxvf [archive name]\n",
    "\n",
    "File extension is usually *.tgz* or *.tar.gz*"
   ]
  },
  {
   "cell_type": "markdown",
   "metadata": {
    "slideshow": {
     "slide_type": "slide"
    }
   },
   "source": [
    "# Exercise\n",
    "\n",
    "Compress [your_name] directory\n",
    "\n",
    "    tar zcvf masa.tgz masa\n",
    "\n",
    "Decompress the archive\n",
    "\n",
    "    tar zxvf masa.tgz\n"
   ]
  },
  {
   "cell_type": "markdown",
   "metadata": {
    "slideshow": {
     "slide_type": "slide"
    }
   },
   "source": [
    "# Remote control\n",
    "\n"
   ]
  },
  {
   "cell_type": "markdown",
   "metadata": {
    "slideshow": {
     "slide_type": "slide"
    }
   },
   "source": [
    "# Remote control *ssh, scp*\n",
    "\n",
    "\n",
    "<div class=\"row\">\n",
    "  <div class=\"column\" align=\"left\">\n",
    "      <br>\n",
    "      1. <i>ssh</i>: Remote Login<br>\n",
    "      <br>      \n",
    "      2. <i>scp, sftp</i>: File transfer<br>\n",
    "    </div>\n",
    "  <div class=\"column\" align=\"left\">\n",
    "    <img src=\"https://github.com/masaomi/bio373_2023/blob/main/png/ssh.png?raw=true\" width=\"700px\">\n",
    "  </div>\n",
    "</div>\n",
    "    \n",
    "    \n"
   ]
  },
  {
   "cell_type": "markdown",
   "metadata": {
    "slideshow": {
     "slide_type": "slide"
    }
   },
   "source": [
    "# Remote control *ssh, scp*\n",
    "\n",
    "ssh: **S**ecure **SH**ell\n",
    "* log-in/control a remote computer from a local computer\n",
    "\n",
    "scp: **S**ecure **C**o**P**y\n",
    "* transfer a file to/from a remote computer from/to a local computer\n"
   ]
  },
  {
   "cell_type": "markdown",
   "metadata": {
    "slideshow": {
     "slide_type": "slide"
    }
   },
   "source": [
    "# ssh\n",
    "\n",
    "    ssh [remote-computer]\n",
    "    ssh [user name]@[remote-computer]\n",
    "\n",
    "Example\n",
    "\n",
    "  $ ssh user_name@server\n",
    "\n",
    "to logtout, type *exit*"
   ]
  },
  {
   "cell_type": "markdown",
   "metadata": {
    "slideshow": {
     "slide_type": "slide"
    }
   },
   "source": [
    "# scp\n",
    "\n",
    "    scp file [server]:[path]\n",
    "    scp -r dir [server]:[path]\n",
    "    scp [server]:[path] [target]\n",
    "\n",
    "$ scp server:data/TAIR10.fasta .\n",
    "\n",
    "$ scp test.dat server:work/masa/\n",
    "\n"
   ]
  },
  {
   "cell_type": "markdown",
   "metadata": {
    "slideshow": {
     "slide_type": "slide"
    }
   },
   "source": [
    "#  Required Skills computationally\n",
    "\n",
    "* Unix Operation (command typing)\n",
    "    * Many programs run on Unix\n",
    "    * Data is stored on Unix\n",
    "* **Scripting** (Programming)\n",
    "    * Software does not do everything\n",
    "    * You need data conversion/processing by yourself"
   ]
  },
  {
   "cell_type": "markdown",
   "metadata": {
    "slideshow": {
     "slide_type": "slide"
    }
   },
   "source": [
    "# What is Scripting?\n",
    "\n",
    "    Computer programming is the comprehensive\n",
    "    process that leads from an original\n",
    "    formulation of a computing problem to\n",
    "    executable programs. (Wikipedia)\n",
    "\n",
    "* Computer programming\n",
    "* Software development\n",
    "* Writing a source code\n",
    "\n"
   ]
  },
  {
   "cell_type": "markdown",
   "metadata": {
    "slideshow": {
     "slide_type": "slide"
    }
   },
   "source": [
    "# Popular Programming Languages\n",
    "\n",
    "* Shell Script: easy but low functionality\n",
    "* Perl, Python, Ruby: similar but higher functionality\n",
    "* R: statistics + graphics, slow\n",
    "* Java, C/C++: faster but need to learn more\n",
    "\n",
    "\n",
    "<span class=\"smaller\">Benchmark: https://attractivechaos.github.io/plb/</span>\n",
    "\n",
    "<span class=\"smaller\">TIOBE Index: https://www.tiobe.com/tiobe-index/</span>\n"
   ]
  },
  {
   "cell_type": "markdown",
   "metadata": {
    "slideshow": {
     "slide_type": "notes"
    }
   },
   "source": [
    "* often question どのプログラミング言語が良いか\n",
    "* 特徴があって、好み"
   ]
  },
  {
   "cell_type": "markdown",
   "metadata": {
    "slideshow": {
     "slide_type": "slide"
    }
   },
   "source": [
    "# Programming Language Processor\n",
    "\n",
    "* Compiler Language\n",
    "  * C/C++, Fortran, etc.\n",
    "* Interpreter Language\n",
    "  * Perl, Python, Ruby, R, Shell script\n",
    "  *  = **Script Language**\n"
   ]
  },
  {
   "cell_type": "markdown",
   "metadata": {
    "slideshow": {
     "slide_type": "slide"
    }
   },
   "source": [
    "# Compiler\n",
    "\n",
    "<div class=\"row\">\n",
    "  <div class=\"column\" align=\"center\">\n",
    "    <img src=\"https://github.com/masaomi/bio373_2023/blob/main/png/compiler.png?raw=true\" width=\"400px\">\n",
    "  </div>\n",
    "  <div class=\"column\" align=\"left\">\n",
    "    <p>\n",
    "Convert Source Code to Machine Code, and run.      \n",
    "    </p>\n",
    "  </div>\n",
    "</div>\n",
    "  \n",
    "\n"
   ]
  },
  {
   "cell_type": "markdown",
   "metadata": {
    "slideshow": {
     "slide_type": "slide"
    }
   },
   "source": [
    "# Interpreter\n",
    "\n",
    "<div class=\"row\">\n",
    "  <div class=\"column\" align=\"center\">\n",
    "    <img src=\"https://github.com/masaomi/bio373_2023/blob/main/png/interpreter.png?raw=true\" width=\"600px\">\n",
    "  </div>\n",
    "  <div class=\"column\" align=\"left\">\n",
    "    <p>\n",
    "Loading code line by line, and run.  \n",
    "    </p>\n",
    "  </div>\n",
    "</div>\n"
   ]
  },
  {
   "cell_type": "markdown",
   "metadata": {
    "slideshow": {
     "slide_type": "slide"
    }
   },
   "source": [
    "# Compiler vs. Interpreter\n",
    "\n",
    "* Compiler\n",
    "  * Fast but compile before run\n",
    "  * Two files, source file and executable file\n",
    "* Interpreter\n",
    "  * Slow but no need to compile\n",
    "  * Only source code file\n"
   ]
  },
  {
   "cell_type": "markdown",
   "metadata": {
    "slideshow": {
     "slide_type": "slide"
    }
   },
   "source": [
    "# Programming Languages\n",
    "\n",
    "* Compiler Languages *Fast* execution + *Strict* grammar\n",
    "  * C/C++, Java, Fortran, etc.\n",
    "  * Unix is implemented in C\n",
    "* Interpreter Script language *Slow* execution + *Flexible* grammar\n",
    "  * Shell Script, Perl, Python, Ruby, R\n",
    "\n",
    "It is easier to learn an *interpreter language*\n"
   ]
  },
  {
   "cell_type": "markdown",
   "metadata": {
    "slideshow": {
     "slide_type": "slide"
    }
   },
   "source": [
    "# Script Languages\n",
    "\n",
    "* **Shell Script**\n",
    "* Perl\n",
    "* Python\n",
    "* Ruby\n",
    "* R\n",
    "* etc."
   ]
  },
  {
   "cell_type": "markdown",
   "metadata": {
    "slideshow": {
     "slide_type": "slide"
    }
   },
   "source": [
    "# Shell\n",
    "\n",
    "<div align=\"center\">\n",
    "    <img src=\"https://github.com/masaomi/bio373_2023/blob/main/png/os2.png?raw=true\" width=\"600px\">\n",
    "</div>\n",
    "Primitive user interface software between Kernel and User (a part of operating system)\n"
   ]
  },
  {
   "cell_type": "markdown",
   "metadata": {
    "slideshow": {
     "slide_type": "slide"
    }
   },
   "source": [
    "# Variety of Shells\n",
    "\n",
    "Shell type\n",
    "* *sh*: Bourne shell\n",
    "* *bash*: Bourne-Again shell, **default in Linux**\n",
    "* *csh*: C shell\n",
    "* *zsh*: Z shell\n",
    "\n",
    "\n",
    "    echo $SHELL"
   ]
  },
  {
   "cell_type": "markdown",
   "metadata": {
    "slideshow": {
     "slide_type": "slide"
    }
   },
   "source": [
    "# Shell Script\n",
    "\n",
    "Batch process of commands\n",
    "\n",
    "    command1\n",
    "    command2\n",
    "    command3\n",
    "    command4\n",
    "\n",
    "Unix commands"
   ]
  },
  {
   "cell_type": "markdown",
   "metadata": {
    "slideshow": {
     "slide_type": "slide"
    }
   },
   "source": [
    "# Example Sequential Processing\n",
    "\n",
    "    pwd\n",
    "    ls\n",
    "    sleep 3\n",
    "    echo 'END'\n",
    "\n",
    "*Demonstration*"
   ]
  },
  {
   "cell_type": "markdown",
   "metadata": {
    "slideshow": {
     "slide_type": "slide"
    }
   },
   "source": [
    "# Execute shell script\n",
    "\n",
    "    sh test.sh\n",
    "    bash test.sh\n",
    "    csh test.sh\n",
    "\n",
    "*possible: shell script to execute shell scripts...*"
   ]
  },
  {
   "cell_type": "markdown",
   "metadata": {
    "slideshow": {
     "slide_type": "slide"
    }
   },
   "source": [
    "# Environmental Variables\n",
    "\n",
    "Shell and other software sometimes use some specific values in the environment\n",
    "\n",
    "    env\n",
    "    env | grep SHELL\n"
   ]
  },
  {
   "cell_type": "markdown",
   "metadata": {
    "slideshow": {
     "slide_type": "slide"
    }
   },
   "source": [
    "# Links\n",
    "\n",
    "* Linux Shell Scripting Tutorial (LSST) v2.0 Beginner's Handbook\n",
    "  http://bash.cyberciti.biz/guide/Main_Page\n",
    "  http://www.freeos.com/guides/lsst/\n",
    "* Bash Shell Programming\n",
    "  http://arachnoid.com/linux/shell_programming.html\n",
    "* Top 10 Best Cheat Sheets\n",
    "  http://www.cyberciti.biz/tips/linux-unix-commands-cheat-sheets.html"
   ]
  },
  {
   "cell_type": "markdown",
   "metadata": {
    "slideshow": {
     "slide_type": "slide"
    }
   },
   "source": [
    "# Summary (keywords)\n",
    "\n",
    "Bioinformatics requires\n",
    "1. Unix = Operating System\n",
    "2. CLI operation &RightArrow; Tons of commands\n",
    "3. Scripting = Programming, some learning cost\n"
   ]
  },
  {
   "cell_type": "markdown",
   "metadata": {
    "slideshow": {
     "slide_type": "slide"
    }
   },
   "source": [
    "<div class=\"question\">Questions?</div>"
   ]
  },
  {
   "cell_type": "markdown",
   "metadata": {
    "slideshow": {
     "slide_type": "fragment"
    }
   },
   "source": [
    "Next: Unix command practice!!"
   ]
  }
 ],
 "metadata": {
  "celltoolbar": "Slideshow",
  "kernelspec": {
   "display_name": "Python 3 (ipykernel)",
   "language": "python",
   "name": "python3"
  },
  "language_info": {
   "codemirror_mode": {
    "name": "ipython",
    "version": 3
   },
   "file_extension": ".py",
   "mimetype": "text/x-python",
   "name": "python",
   "nbconvert_exporter": "python",
   "pygments_lexer": "ipython3",
   "version": "3.10.10"
  },
  "rise": {
   "chalkboard": {
    "color": [
     "rgb(250, 150, 150)",
     "rgb(250, 150, 150)"
    ]
   },
   "enable_chalkboard": true,
   "header": "<h3>Bio373 2023</h3>",
   "progress": true,
   "scroll": true,
   "slideNumber": "c/t",
   "theme": "serif",
   "transition": "convex"
  }
 },
 "nbformat": 4,
 "nbformat_minor": 4
}
