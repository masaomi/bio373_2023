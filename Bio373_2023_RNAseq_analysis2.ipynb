{
 "cells": [
  {
   "cell_type": "markdown",
   "metadata": {
    "slideshow": {
     "slide_type": "slide"
    }
   },
   "source": [
    "# Bio373 NGS Bioinformatics, RNAseq analysis part2\n",
    "\n",
    "* 6 Oct. 2023\n",
    "* Masaomi Hatakeyama\n",
    "    - https://github.com/masaomi/Bio373_2023\n"
   ]
  },
  {
   "cell_type": "markdown",
   "metadata": {
    "slideshow": {
     "slide_type": "slide"
    }
   },
   "source": [
    "# Plan Today\n",
    "\n",
    "RNA-seq analysis workflow 9:00-12:00\n",
    "* Clustering analysis\n",
    "* Differential expression analysis\n",
    "* Gene ontology analysis\n",
    "\n",
    "Actual (unpublished) data analysis 13:00-16:00\n",
    "\n",
    "Announce by Yasu 16:00-17:00\n"
   ]
  },
  {
   "cell_type": "markdown",
   "metadata": {
    "slideshow": {
     "slide_type": "slide"
    }
   },
   "source": [
    "# RNA-seq workflow<br>Differential expression analysis\n",
    "\n",
    "1. Sequencing\n",
    "2. Quality control\n",
    "3. Mapping / Alignment\n",
    "4. Estimate expression level\n"
   ]
  },
  {
   "cell_type": "markdown",
   "metadata": {
    "slideshow": {
     "slide_type": "fragment"
    }
   },
   "source": [
    "*What is next?*"
   ]
  },
  {
   "cell_type": "markdown",
   "metadata": {
    "slideshow": {
     "slide_type": "slide"
    }
   },
   "source": [
    "# After counting / a typical case\n",
    "\n",
    "1. Plotting count data Visualization\n",
    "2. Clustering, MDS plot Multivariate analysis\n",
    "3. Detecting differentically expressed genes DEGs\n",
    "\n",
    "etc..."
   ]
  },
  {
   "cell_type": "markdown",
   "metadata": {
    "slideshow": {
     "slide_type": "slide"
    }
   },
   "source": [
    "# RNA-seq workflow\n",
    "\n",
    "1. Sequencing\n",
    "2. Quality control\n",
    "3. Mapping / Alignment\n",
    "4. Estimate expression level\n",
    "    * **Plotting**\n",
    "    * Clustering\n",
    "    * Differential expression\n"
   ]
  },
  {
   "cell_type": "markdown",
   "metadata": {
    "slideshow": {
     "slide_type": "slide"
    }
   },
   "source": [
    "# Distribution Count data *A. halleri* RNAseq\n",
    "\n",
    "<div align=\"center\">\n",
    "  <img src=\"https://raw.githubusercontent.com/masaomi/Bio373_2023/master/png/ahal_sample1_dist_rank.png\" width=\"700px\">\n",
    "</div>\n",
    "\n",
    "* Majority: **low expressed genes**\n",
    "* Minority: **high expressed genes**\n",
    "\n"
   ]
  },
  {
   "cell_type": "markdown",
   "metadata": {
    "slideshow": {
     "slide_type": "slide"
    }
   },
   "source": [
    "# Distribution<br>Count data *A. halleri* RNAseq last year\n",
    "\n",
    "<div align=\"center\">\n",
    "  <img src=\"https://raw.githubusercontent.com/masaomi/Bio373_2023/master/png/ahal_sample1_dist_rank.png\" width=\"700px\">\n",
    "</div>\n",
    "\n",
    "$\\rightarrow$ **Power-law** Expression range is very large\n",
    "\n",
    "<div class=\"small\">Hiroki R. Ueda, PNAS, 2004, 101(11), 3765</div>\n"
   ]
  },
  {
   "cell_type": "markdown",
   "metadata": {
    "slideshow": {
     "slide_type": "slide"
    }
   },
   "source": [
    "# Gene Regulatory Network<br>Scale free network\n",
    "\n",
    "I guess ....\n",
    "<div class=\"row\">\n",
    "  <div class=\"column\" align=\"center\">\n",
    "  <img src=\"https://raw.githubusercontent.com/masaomi/Bio373_2023/master/png/gene_reg_net.png\" width=\"400px\">\n",
    "  </div>\n",
    "Gene regulatory networks are generally thought to be made up of a few highly connected nodes (hubs) and many poorly connected nodes. (Wikipedia)\n",
    "</div>\n",
    "\n",
    "\n",
    "\n",
    "<div class=\"small\">Decourty et al, PNAS 2008</div>\n"
   ]
  },
  {
   "cell_type": "markdown",
   "metadata": {
    "slideshow": {
     "slide_type": "slide"
    }
   },
   "source": [
    "# Distribution<br>Count data *A. halleri* RNAseq\n",
    "<div align=\"center\">\n",
    "  <img src=\"https://raw.githubusercontent.com/masaomi/Bio373_2023/master/png/ahal_poisson.png\" width=\"600px\">\n",
    "</div>\n",
    "\n",
    "* Poisson distribution?\n"
   ]
  },
  {
   "cell_type": "markdown",
   "metadata": {
    "slideshow": {
     "slide_type": "slide"
    }
   },
   "source": [
    "# Distribution<br>*A. halleri* FPKM mean - variance\n",
    "\n",
    "<div align=\"center\">\n",
    "  <img src=\"https://raw.githubusercontent.com/masaomi/Bio373_2023/master/png/ahal_pois_mean_var.png\" width=\"600px\">\n",
    "</div>\n",
    "\n",
    "* ~~Poisson distribution Mean = Vriance~~<br>\n",
    "$\\longrightarrow$ **Overdispersion** Variance > Mean"
   ]
  },
  {
   "cell_type": "markdown",
   "metadata": {
    "slideshow": {
     "slide_type": "slide"
    }
   },
   "source": [
    "# Distribution<br>*A. halleri* FPKM mean - variance\n",
    "\n",
    "<div align=\"center\">\n",
    "  <img src=\"https://raw.githubusercontent.com/masaomi/Bio373_2023/master/png/ahal_pois_mean_var.png\" width=\"400px\">\n",
    "</div>\n",
    "\n",
    "* ~~Poisson distribution Mean = Vriance~~\n",
    "* Negative binomial distribution<br>\n",
    "$\\sigma^2 = \\mu + \\phi \\mu^2 (\\phi > 0)$"
   ]
  },
  {
   "cell_type": "markdown",
   "metadata": {
    "slideshow": {
     "slide_type": "slide"
    }
   },
   "source": [
    "# Negative binomial distribution\n",
    "\n",
    "<div align=\"center\">\n",
    "  <img src=\"https://raw.githubusercontent.com/masaomi/Bio373_2023/master/png/Negbinomial.gif\" width=\"400px\">\n",
    "</div>\n",
    "\n",
    "$X \\sim \\rm{NB}(r,p), Pr(X=x) =  \\begin{pmatrix}\n",
    "  k + r - 1\\\\ \n",
    "  r - 1\n",
    "\\end{pmatrix}(1-p)^k p^r$\n",
    "\n",
    "where $r$ is the number of successes, $k$ is the number of failures, and $p$ is the probability of success.\n",
    "\n",
    "https://en.wikipedia.org/wiki/Negative_binomial_distribution"
   ]
  },
  {
   "cell_type": "markdown",
   "metadata": {
    "slideshow": {
     "slide_type": "slide"
    }
   },
   "source": [
    "# Visualization Expression data\n",
    "\n",
    "* Bar plot, Box plot\n",
    "* Scatter plot log - log\n",
    "* Volcano plot log(fold-change) - log(p-value)\n",
    "* M-A plot log(average) - log(ratio)"
   ]
  },
  {
   "cell_type": "markdown",
   "metadata": {
    "slideshow": {
     "slide_type": "slide"
    }
   },
   "source": [
    "# Box plot<br>Box-and-Whisker plot\n",
    "\n",
    "<div align=\"center\">\n",
    "  <img src=\"https://raw.githubusercontent.com/masaomi/Bio373_2023/master/png/boxplot.png\" width=\"600px\">\n",
    "</div>\n",
    "\n",
    "A basic plot 1\n"
   ]
  },
  {
   "cell_type": "markdown",
   "metadata": {
    "slideshow": {
     "slide_type": "slide"
    }
   },
   "source": [
    "# Bar plot\n",
    "\n",
    "<div align=\"center\">\n",
    "  <img src=\"https://raw.githubusercontent.com/masaomi/Bio373_2023/master/png/barplot.png\" width=\"600px\">\n",
    "</div>\n",
    "\n",
    "Error bar: standard deviation, standard error, or confidence interval"
   ]
  },
  {
   "cell_type": "markdown",
   "metadata": {
    "slideshow": {
     "slide_type": "slide"
    }
   },
   "source": [
    "## Scatter plot for many data points\n",
    "\n",
    "<div align=\"center\">\n",
    "  <img src=\"https://raw.githubusercontent.com/masaomi/Bio373_2023/master/png/scatter_plot_matrix.png\" width=\"500px\">\n",
    "</div>\n",
    "\n",
    "A basic plot 3"
   ]
  },
  {
   "cell_type": "markdown",
   "metadata": {
    "slideshow": {
     "slide_type": "slide"
    }
   },
   "source": [
    "# Scatter plot + Correlation matrix\n",
    "\n",
    "<div align=\"center\">\n",
    "  <img src=\"https://raw.githubusercontent.com/masaomi/Bio373_2023/master/png/scatter_correlation_matrix.png\" width=\"550px\">\n",
    "    </div>"
   ]
  },
  {
   "cell_type": "markdown",
   "metadata": {
    "slideshow": {
     "slide_type": "slide"
    }
   },
   "source": [
    "# Heatmap sample - sample\n",
    "\n",
    "<div align=\"center\">\n",
    "  <img src=\"https://raw.githubusercontent.com/masaomi/Bio373_2023/master/png/heatmap.png\" width=\"550px\">\n",
    "</div>\n",
    "\n",
    "We can see the correlation visually as a quality control, > 5 samples"
   ]
  },
  {
   "cell_type": "markdown",
   "metadata": {
    "slideshow": {
     "slide_type": "slide"
    }
   },
   "source": [
    "# Heatmap gene expression - sample\n",
    "\n",
    "<div align=\"center\">\n",
    "  <img src=\"https://raw.githubusercontent.com/masaomi/Bio373_2023/master/png/heatmap_sample_gene.png\" width=\"450px\">\n",
    "</div>"
   ]
  },
  {
   "cell_type": "markdown",
   "metadata": {
    "slideshow": {
     "slide_type": "slide"
    }
   },
   "source": [
    "## Volcano plot log(fold-change) - log(p-value)\n",
    "\n",
    "<div align=\"center\">\n",
    "  <img src=\"https://raw.githubusercontent.com/masaomi/Bio373_2023/master/png/volcano_plot.png\" width=\"300px\">\n",
    "</div>\n",
    "\n",
    "X-axis: Log fold change (ratio), Y-axis: -log(p-value)\n",
    "\n",
    "We can see differential expressed genes visually"
   ]
  },
  {
   "cell_type": "markdown",
   "metadata": {
    "slideshow": {
     "slide_type": "slide"
    }
   },
   "source": [
    "## M-A plot log(average) - log(ratio)\n",
    "\n",
    "<div align=\"center\">\n",
    "  <img src=\"https://raw.githubusercontent.com/masaomi/Bio373_2023/master/png/ma_plot.png\" width=\"300px\">\n",
    "</div>\n",
    "\n",
    "X-axis: Log mean, Y-axis: Log fold change (ratio)\n",
    "\n",
    "We can see both fold change and expression level at the same time\n"
   ]
  },
  {
   "cell_type": "markdown",
   "metadata": {
    "slideshow": {
     "slide_type": "slide"
    }
   },
   "source": [
    "# Multivariate analysis\n",
    "\n",
    "* Clustering\n",
    "* Multi-dimensional scaling (e.g. PCA)\n",
    "\n",
    "They are used mostly for quality control after counting\n"
   ]
  },
  {
   "cell_type": "markdown",
   "metadata": {
    "slideshow": {
     "slide_type": "slide"
    }
   },
   "source": [
    "# Clustering\n",
    "\n",
    "<div align=\"center\">\n",
    "  <img src=\"https://raw.githubusercontent.com/masaomi/Bio373_2023/master/png/clustering_image.png\" width=\"800px\">\n",
    "</div>\n",
    "\n",
    "* Classify elements with their similarity\n"
   ]
  },
  {
   "cell_type": "markdown",
   "metadata": {
    "slideshow": {
     "slide_type": "slide"
    }
   },
   "source": [
    "# What is 'Similarity'?\n",
    "\n",
    "<div class=\"row\">\n",
    "  <div class=\"column\" align=\"center\">\n",
    "  <img src=\"https://raw.githubusercontent.com/masaomi/Bio373_2023/master/png/pattern.png\" width=\"400px\">\n",
    "  </div>\n",
    "  <div class=\"column\" align=\"left\">\n",
    "      - <b>Distance based</b>: <br>Euclidean distance, Manhattan distance<br>\n",
    "      - <b>Correlation based</b>: <br>Pearson correlation coefficient, cosine correlation cefficient<br>\n",
    "      - <b>Link based</b>: <br>The number of connected nodes, density, (graph theory)<br>\n",
    "</div>\n",
    "</div>\n",
    "\n",
    "\n",
    "\n"
   ]
  },
  {
   "cell_type": "markdown",
   "metadata": {
    "slideshow": {
     "slide_type": "slide"
    }
   },
   "source": [
    "# Which metric is better?\n",
    "\n",
    "* **Distance based**: Absolute amount of differential expressions\n",
    "* **Correlation based**: Correlation of differential expressions\n",
    "\n",
    "e.g.\n",
    "* Comparison in different conditions $\\rightarrow$ which??\n",
    "* Comparison in different time points $\\rightarrow$ which??\n"
   ]
  },
  {
   "cell_type": "markdown",
   "metadata": {
    "slideshow": {
     "slide_type": "slide"
    }
   },
   "source": [
    "# Which metric is better?\n",
    "\n",
    "* **Distance based**: Absolute amount of differential expressions\n",
    "* **Correlation based**: Correlation of differential expressions\n",
    "\n",
    "e.g.\n",
    "* Comparison in different conditions $\\rightarrow$ distance based\n",
    "* Comparison in different time points $\\rightarrow$ correlation based\n"
   ]
  },
  {
   "cell_type": "markdown",
   "metadata": {
    "slideshow": {
     "slide_type": "slide"
    }
   },
   "source": [
    "# Clustering\n",
    "\n",
    "* Hierarchical Clustering\n",
    "  * **Divisive**: top down approach\n",
    "  * **Agglomerative**: bottom up approach\n",
    "* Non-hierarchical Clustering Partitioning-optimization\n",
    "  * **Hard clustering**: elements can belong to only one cluster\n",
    "  * **Soft clustering**: elements can belong to more than one cluster\n"
   ]
  },
  {
   "cell_type": "markdown",
   "metadata": {
    "slideshow": {
     "slide_type": "slide"
    }
   },
   "source": [
    "# Clustering R *hclust* function\n",
    "\n",
    "* **Hierarchical Clustering**\n",
    "  * Divisive: top down approach\n",
    "  * **Agglomerative**: bottom up approach\n",
    "* Non-hierarchical Clustering Partitioning-optimization\n",
    "  * Hard clustering: elements can belong to only one cluster\n",
    "  * Soft clustering: elements can belong to more than one cluster\n"
   ]
  },
  {
   "cell_type": "markdown",
   "metadata": {
    "slideshow": {
     "slide_type": "slide"
    }
   },
   "source": [
    "# Clustering R *kmeans* function\n",
    "\n",
    "* Hierarchical Clustering\n",
    "  * Divisive: top down approach\n",
    "  * Agglomerative: bottom up approach\n",
    "* **Non-hierarchical Clustering** Partitioning-optimization\n",
    "  * **Hard clustering**: elements can belong to only one cluster\n",
    "  * Soft clustering: elements can belong to more than one cluster"
   ]
  },
  {
   "cell_type": "markdown",
   "metadata": {
    "slideshow": {
     "slide_type": "slide"
    }
   },
   "source": [
    "# K-means clustering Non-herarchical clustering\n",
    "\n",
    "Algorithm\n",
    "1. Select K points randomly\n",
    "2. Assign clusters to the selected points\n",
    "3. Move the centroid in each cluster\n",
    "\n",
    "Repeat 2-3 until the centroids stop\n"
   ]
  },
  {
   "cell_type": "markdown",
   "metadata": {
    "slideshow": {
     "slide_type": "subslide"
    }
   },
   "source": [
    "# K-means clustering Non-herarchical clustering\n",
    "\n",
    "<div align=\"center\">\n",
    "  <img src=\"https://raw.githubusercontent.com/masaomi/Bio373_2023/master/png/kmeans.gif\" width=\"800px\">\n",
    "</div>\n",
    "\n"
   ]
  },
  {
   "cell_type": "markdown",
   "metadata": {
    "slideshow": {
     "slide_type": "slide"
    }
   },
   "source": [
    "# Hierarchical clustering\n",
    "\n",
    "1. Calculate pair-wise distance in all points\n",
    "2. Assign a cluster to smallest distance pair\n",
    "3. Select a representative point of the cluster\n",
    "\n",
    "Repeat 1-3 until the cluster becomes one\n"
   ]
  },
  {
   "cell_type": "markdown",
   "metadata": {
    "slideshow": {
     "slide_type": "slide"
    }
   },
   "source": [
    "# Hierarchical clustering\n",
    "\n",
    "<div align=\"center\">\n",
    "  <img src=\"https://raw.githubusercontent.com/masaomi/Bio373_2023/master/png/hierarch.gif\" width=\"800px\">\n",
    "</div>\n",
    "\n",
    "<span class=\"small\">Reference: https://dashee87.github.io/data%20science/general/Clustering-with-Scikit-with-GIFs</span>\n"
   ]
  },
  {
   "cell_type": "markdown",
   "metadata": {
    "slideshow": {
     "slide_type": "notes"
    }
   },
   "source": [
    "== Hierarchical Clustering Image\n",
    "\n",
    "  <img src=\"https://raw.githubusercontent.com/masaomi/Bio373_2023/master/png/clustering1.png\" width=\"600px\">"
   ]
  },
  {
   "cell_type": "markdown",
   "metadata": {
    "slideshow": {
     "slide_type": "slide"
    }
   },
   "source": [
    "# Distance between clusters\n",
    "\n",
    "How to merge clusters\n",
    "\n",
    "* Nearest neighbor, single linkage method\n",
    "* Furthest neighbor, complete linkage method\n",
    "* Group average method\n",
    "* Ward’s minimum variance method\n"
   ]
  },
  {
   "cell_type": "markdown",
   "metadata": {
    "slideshow": {
     "slide_type": "slide"
    }
   },
   "source": [
    "# Nearest neighor\n",
    "\n",
    "<div align=\"center\">\n",
    "  <img src=\"https://raw.githubusercontent.com/masaomi/Bio373_2023/master/png/nearest.png\" width=\"600px\">\n",
    "</div>\n",
    "\n",
    "* A-C merging\n"
   ]
  },
  {
   "cell_type": "markdown",
   "metadata": {
    "slideshow": {
     "slide_type": "slide"
    }
   },
   "source": [
    "# Furthest neihbor\n",
    "\n",
    "<div align=\"center\">\n",
    "  <img src=\"https://raw.githubusercontent.com/masaomi/Bio373_2023/master/png/furthest.png\" width=\"600px\">\n",
    "    </div>\n",
    "\n",
    "* B-C merging"
   ]
  },
  {
   "cell_type": "markdown",
   "metadata": {
    "slideshow": {
     "slide_type": "slide"
    }
   },
   "source": [
    "\n",
    "\n",
    "# Group average\n",
    "\n",
    "<div align=\"center\">\n",
    "  <img src=\"https://raw.githubusercontent.com/masaomi/Bio373_2023/master/png/groupave.png\" width=\"600px\">\n",
    "</div>\n",
    "\n",
    "* A-C merging"
   ]
  },
  {
   "cell_type": "markdown",
   "metadata": {
    "slideshow": {
     "slide_type": "slide"
    }
   },
   "source": [
    "# Ward's method, minimum variance\n",
    "\n",
    "<div align=\"center\">\n",
    "  <img src=\"https://raw.githubusercontent.com/masaomi/Bio373_2023/master/png/ward_method.png\" width=\"600px\">\n",
    "</div>\n",
    "\n",
    "* Minimize Δ= L(P∪Q)－L(P)－L(Q)\n",
    "* L(X): variance between the centroid and elements of X"
   ]
  },
  {
   "cell_type": "markdown",
   "metadata": {
    "slideshow": {
     "slide_type": "notes"
    }
   },
   "source": [
    "== Distance function\n",
    "\n",
    "* euclidean\n",
    "* manhattan\n",
    "* minkowski\n",
    "* canberra\n",
    "* binary\n",
    "* maximum"
   ]
  },
  {
   "cell_type": "markdown",
   "metadata": {
    "slideshow": {
     "slide_type": "slide"
    }
   },
   "source": [
    "# Example *A. halleri* RNA\n",
    "\n",
    "<div align=\"center\">\n",
    "  <img src=\"https://raw.githubusercontent.com/masaomi/Bio373_2023/master/png/ahal_sample_clustering.png\" width=\"500px\">\n",
    "</div>"
   ]
  },
  {
   "cell_type": "markdown",
   "metadata": {
    "slideshow": {
     "slide_type": "skip"
    }
   },
   "source": [
    "# Example Clustering + Heatmap\n",
    "\n",
    "<div align=\"center\">\n",
    "  <img src=\"https://raw.githubusercontent.com/masaomi/Bio373_2023/master/png/ahal-cluster-heatmap.png\" width=\"500px\">\n",
    "    </div>"
   ]
  },
  {
   "cell_type": "markdown",
   "metadata": {
    "slideshow": {
     "slide_type": "slide"
    }
   },
   "source": [
    "## Exercise: hierarchical clustering\n",
    "\n",
    "<div align=\"center\">\n",
    "    <img src=\"https://raw.githubusercontent.com/masaomi/Bio373_2023/master/png/cluster_ex.png\" width=\"600px\">\n",
    "</div>\n",
    "\n",
    "* Make the first clusters\n",
    "* Use **Euclidean distance** and **group average method**\n"
   ]
  },
  {
   "cell_type": "markdown",
   "metadata": {
    "slideshow": {
     "slide_type": "slide"
    }
   },
   "source": [
    "# Exercise: hierarchical clustering\n",
    "\n",
    "<div align=\"center\">\n",
    "  <img src=\"https://raw.githubusercontent.com/masaomi/Bio373_2023/master/png/distance0.png\" width=\"700px\">\n",
    "</div>\n",
    "\n"
   ]
  },
  {
   "cell_type": "markdown",
   "metadata": {
    "slideshow": {
     "slide_type": "slide"
    }
   },
   "source": [
    "# Exercise: hierarchical clustering, R *hclust*\n",
    "\n",
    "<div align=\"center\">\n",
    "  <img src=\"https://raw.githubusercontent.com/masaomi/Bio373_2023/master/png/cluster_ex_dendrogram.png\" width=\"500px\">\n",
    "</div>\n"
   ]
  },
  {
   "cell_type": "markdown",
   "metadata": {
    "slideshow": {
     "slide_type": "slide"
    }
   },
   "source": [
    "# A problem in hierarchical clustering\n",
    "\n",
    "RNAseq data\n",
    "\n",
    "* Expression data are **NOT** normal distributed<br>\n",
    "$\\rightarrow$High and low expressed genes are not evaluated equally\n"
   ]
  },
  {
   "cell_type": "markdown",
   "metadata": {
    "slideshow": {
     "slide_type": "slide"
    }
   },
   "source": [
    "# Example\n",
    "\n",
    "<div align=\"center\">\n",
    "  <img src=\"https://raw.githubusercontent.com/masaomi/Bio373_2023/master/png/clustering_problem.png\" width=\"700px\">\n",
    "</div>\n"
   ]
  },
  {
   "cell_type": "markdown",
   "metadata": {
    "slideshow": {
     "slide_type": "fragment"
    }
   },
   "source": [
    "$\\rightarrow$Higher expressions cause longer distance"
   ]
  },
  {
   "cell_type": "markdown",
   "metadata": {
    "slideshow": {
     "slide_type": "slide"
    }
   },
   "source": [
    "# Transformation\n",
    "\n",
    "1. Squre root transformation\n",
    "2. Log transformation\n"
   ]
  },
  {
   "cell_type": "markdown",
   "metadata": {
    "slideshow": {
     "slide_type": "slide"
    }
   },
   "source": [
    "## Raw counts Histogram & Scatter plot\n",
    "\n",
    "<div align=\"center\">\n",
    "  <img src=\"https://raw.githubusercontent.com/masaomi/Bio373_2023/master/png/raw_counts.png\" width=\"800px\">\n",
    "</div>\n",
    "\n",
    "A lot of low counts and a very few high counts"
   ]
  },
  {
   "cell_type": "markdown",
   "metadata": {
    "slideshow": {
     "slide_type": "slide"
    }
   },
   "source": [
    "## Squre-root transformation Histogram & Scatter plot\n",
    "\n",
    "<div align=\"center\">\n",
    "  <img src=\"https://raw.githubusercontent.com/masaomi/Bio373_2023/master/png/sqrt_transform.png\" width=\"800px\">\n",
    "</div>\n",
    "\n",
    "Data range becomes shorter\n"
   ]
  },
  {
   "cell_type": "markdown",
   "metadata": {
    "slideshow": {
     "slide_type": "slide"
    }
   },
   "source": [
    "## $log_2$ transformation \n",
    "\n",
    "Filtering FPKM > 0, $log2$ transformed\n",
    "\n",
    "<div align=\"center\">\n",
    "  <img src=\"https://raw.githubusercontent.com/masaomi/Bio373_2023/master/png/log2_transform.png\" width=\"500px\">\n",
    "</div>\n",
    "\n",
    "1. Data range further shorter\n",
    "2. Closer to normal distirution"
   ]
  },
  {
   "cell_type": "markdown",
   "metadata": {
    "slideshow": {
     "slide_type": "slide"
    }
   },
   "source": [
    "## Scaling \n",
    "Another normalization, standardization\n",
    "\n",
    "    Feature scaling is a method used to standardize\n",
    "    the range of independent variables or features\n",
    "    of data. In data processing, it is also known\n",
    "    as data normalization and is generally performed\n",
    "    during the data preprocessing step (wikipedia).\n"
   ]
  },
  {
   "cell_type": "markdown",
   "metadata": {
    "slideshow": {
     "slide_type": "slide"
    }
   },
   "source": [
    "# Mean normalization\n",
    "\n",
    "<div align=\"center\">\n",
    "  <img src=\"https://raw.githubusercontent.com/masaomi/Bio373_2023/master/png/mean_normalization.png\" width=\"800px\">\n",
    "</div>\n",
    "\n",
    "where $x$ is an original value, $x'$ is the normalized value."
   ]
  },
  {
   "cell_type": "markdown",
   "metadata": {
    "slideshow": {
     "slide_type": "slide"
    }
   },
   "source": [
    "# Standardization (Z-score normalization)\n",
    "\n",
    "<div align=\"center\">\n",
    "  <img src=\"https://raw.githubusercontent.com/masaomi/Bio373_2023/master/png/standardization.png\" width=\"800px\">\n",
    "</div>\n",
    "\n",
    "where $x$ is the original feature vector, and $\\sigma$  is the standard deviation."
   ]
  },
  {
   "cell_type": "markdown",
   "metadata": {
    "slideshow": {
     "slide_type": "slide"
    }
   },
   "source": [
    "# Example RNAseq raw counts\n",
    "\n",
    "<div align=\"center\">\n",
    "  <img src=\"https://raw.githubusercontent.com/masaomi/Bio373_2023/master/png/non_normalization.png\" width=\"700px\">\n",
    "</div>\n",
    "\n",
    "Filtering FPKM > 1, $log_2$ transformed"
   ]
  },
  {
   "cell_type": "markdown",
   "metadata": {
    "slideshow": {
     "slide_type": "slide"
    }
   },
   "source": [
    "# Example Mean normalization\n",
    "\n",
    "<div align=\"center\">\n",
    "  <img src=\"https://raw.githubusercontent.com/masaomi/Bio373_2023/master/png/mean_norm.png\" width=\"700px\">\n",
    "</div>\n",
    "\n",
    "$\\mu=0.0$\n"
   ]
  },
  {
   "cell_type": "markdown",
   "metadata": {
    "slideshow": {
     "slide_type": "slide"
    }
   },
   "source": [
    "# Example Standard normalization\n",
    "\n",
    "<div align=\"center\">\n",
    "  <img src=\"https://raw.githubusercontent.com/masaomi/Bio373_2023/master/png/standard_norm.png\" width=\"700px\">\n",
    "</div>\n",
    "\n",
    "$\\mu = 0.0, \\sigma^2=1.0$,\n",
    "closer to the normal distribution"
   ]
  },
  {
   "cell_type": "markdown",
   "metadata": {
    "slideshow": {
     "slide_type": "slide"
    }
   },
   "source": [
    "# Mini Summary\n",
    "\n",
    "* Most of genes: low expression\n",
    "* Negative binomial distribution\n",
    "* Clustering\n",
    "  * Hierarchical\n",
    "  * Non-hierarchical\n",
    "* Tranformation data scale change\n",
    "* Normalization scaling, distribution change"
   ]
  },
  {
   "cell_type": "markdown",
   "metadata": {
    "slideshow": {
     "slide_type": "slide"
    }
   },
   "source": [
    "# RNA-seq workflow\n",
    "\n",
    "Differential expression analysis\n",
    "\n",
    "1. Sequencing\n",
    "2. Quality control\n",
    "3. Mapping / Alignment\n",
    "4. Estimate expression level\n",
    "    * Plotting\n",
    "    * Clustering\n",
    "    * **Differential expression**\n"
   ]
  },
  {
   "cell_type": "markdown",
   "metadata": {
    "slideshow": {
     "slide_type": "slide"
    }
   },
   "source": [
    "# Differential expression\n",
    "\n",
    "How to detect **D**ifferential **E**xpressed **G**enes DEGs\n",
    "\n",
    "* CuffDiff, StringTie <span class=\"small\">Cole Trapnell, et al., Nat Protoc., 2012</span>\n",
    "* Ballgown <span class=\"small\">Pertea, M., et al. Nat Protoc 11, 1650–1667, 2016</span>\n",
    "* R packages\n",
    "  * edgeR <span class=\"small\">Robinson et al., Bioinformatics, 2010</span>\n",
    "  * DESeq2 <span class=\"small\">Love MI, Huber W, Anders S, Genome Biology, 15, 550, 2014</span>\n",
    "  \n",
    "...etc.\n"
   ]
  },
  {
   "cell_type": "markdown",
   "metadata": {
    "slideshow": {
     "slide_type": "slide"
    }
   },
   "source": [
    "# Fold-change ratio\n",
    "\n",
    "Microarray era...\n",
    "* Fold-change=Ratio\n",
    "* LogFC Fold-Change, LogRatio\n",
    "Sometimes\n",
    "* The fold change of X is used to detect DEGs\n",
    "\n",
    "But\n",
    "\n",
    "$\\rightarrow$ Many false positive errors"
   ]
  },
  {
   "cell_type": "markdown",
   "metadata": {
    "slideshow": {
     "slide_type": "slide"
    }
   },
   "source": [
    "# Hypothesis testing\n",
    "\n",
    "<div align=\"center\">\n",
    "  <img src=\"https://raw.githubusercontent.com/masaomi/Bio373_2023/master/png/hypothesis_testing1.png\" width=\"800px\">\n",
    "</div>"
   ]
  },
  {
   "cell_type": "markdown",
   "metadata": {
    "slideshow": {
     "slide_type": "slide"
    }
   },
   "source": [
    "# Hypothesis testing\n",
    "\n",
    "<div align=\"center\">\n",
    "  <img src=\"https://raw.githubusercontent.com/masaomi/Bio373_2023/master/png/hypothesis_testing2.png\" width=\"800px\">\n",
    "    </div>"
   ]
  },
  {
   "cell_type": "markdown",
   "metadata": {
    "slideshow": {
     "slide_type": "slide"
    }
   },
   "source": [
    "# Hypothesis testing\n",
    "\n",
    "<div align=\"center\">\n",
    "  <img src=\"https://raw.githubusercontent.com/masaomi/Bio373_2023/master/png/hypothesis_testing3.png\" width=\"800px\">\n",
    "</div>"
   ]
  },
  {
   "cell_type": "markdown",
   "metadata": {
    "slideshow": {
     "slide_type": "slide"
    }
   },
   "source": [
    "# Hypothesis testing\n",
    "\n",
    "<div align=\"center\">\n",
    "  <img src=\"https://raw.githubusercontent.com/masaomi/Bio373_2023/master/png/hypothesis_testing4.png\" width=\"800px\">\n",
    "</div>"
   ]
  },
  {
   "cell_type": "markdown",
   "metadata": {
    "slideshow": {
     "slide_type": "slide"
    }
   },
   "source": [
    "# Hypothesis testing\n",
    "\n",
    "<div align=\"center\">\n",
    "  <img src=\"https://raw.githubusercontent.com/masaomi/Bio373_2023/master/png/hypothesis_testing5.png\" width=\"800px\">\n",
    "    </div>"
   ]
  },
  {
   "cell_type": "markdown",
   "metadata": {
    "slideshow": {
     "slide_type": "slide"
    }
   },
   "source": [
    "# Testing for differential gene expression\n",
    "\n",
    "\n",
    "* Biological replicates are crucial\n",
    "    * no replicates, no statistics, no p-value\n",
    "* The test is done as many times as there are genes\n",
    "* One needs to adjust the p-values for multiple hypothesis testing"
   ]
  },
  {
   "cell_type": "markdown",
   "metadata": {
    "slideshow": {
     "slide_type": "slide"
    }
   },
   "source": [
    "## Statistical test DEGs detection\n",
    "\n",
    "* Simply: Fisher's exact test\n",
    "* Estimate *Mean* and *Variance*<br>\n",
    "  $\\rightarrow$ GLM fit - negative binomial distribution\n",
    "* Likelihood-ratio test of two models and calculate p-value\n",
    "\n",
    "<div class=\"small\">\n",
    "    <ul>\n",
    "        <li>Robinson et al., Biostatistics, 2008</li>\n",
    "        <li>Anders and Huber, Genome Biol., 2010</li>\n",
    "    </ul>\n",
    "    </div>\n"
   ]
  },
  {
   "cell_type": "markdown",
   "metadata": {
    "slideshow": {
     "slide_type": "slide"
    }
   },
   "source": [
    "# <font color=\"red\">Achtung!</font> Review statistical test\n",
    "\n",
    "Keywords:\n",
    "* Null hypothesis, alternative hypothesis\n",
    "* Significant level, p-value\n",
    "* Multi test problem\n",
    "* False positive rate, False discovery rate\n",
    "* Type I error, Type II error\n",
    "\n",
    "etc..."
   ]
  },
  {
   "cell_type": "markdown",
   "metadata": {
    "slideshow": {
     "slide_type": "slide"
    }
   },
   "source": [
    "# Neyman-Pearson School Statistical Test\n",
    "\n",
    "<img src=\"https://raw.githubusercontent.com/masaomi/Bio373_2023/master/png/neyman_pearson.png\" width=\"250px\" style=\"float: right; margin-right:100px; position:absolute; right:10px;\">\n",
    "\n",
    "- Frequentism (Falsificationism)\n",
    "- Null hypothesis vs. alternative hypothsis\n",
    "\n",
    "   - Logic: if we reject the null hypothesis, we <b>could support</b> the alternative hypothsis\n",
    "   - p-value: the probability of observing data as extreme as, or more extreme than, the actual observed data, given that the null hypothesis is true\n",
    "\n",
    "\n",
    "\n",
    "\n"
   ]
  },
  {
   "cell_type": "markdown",
   "metadata": {
    "slideshow": {
     "slide_type": "slide"
    }
   },
   "source": [
    "# Caveat!!\n",
    "\n",
    "- The p-value is \n",
    "    - **NOT** the probability that the null hypothesis is true, \n",
    "    - BUT the probability of the case happening *under the null hypothesis*\n",
    "\n"
   ]
  },
  {
   "cell_type": "markdown",
   "metadata": {
    "slideshow": {
     "slide_type": "slide"
    }
   },
   "source": [
    "# Neyman-Pearson school statistical test\n",
    "\n",
    "Typically you might say,\n",
    "\n",
    "- If you obtain a p-value less than 0.05, it provides evidence to reject the null hypothesis at the 5% significance level.  \n",
    "- Rejecting the null hypothesis gives evidence in favor of the alternative hypothesis. \n",
    "- However, it's important to note that this **doesn't mean we accept** the alternative hypothesis; rather, we have evidence against the null hypothesis."
   ]
  },
  {
   "cell_type": "markdown",
   "metadata": {
    "slideshow": {
     "slide_type": "slide"
    }
   },
   "source": [
    "# Neyman-Pearson school statistical test\n",
    "\n",
    "* Even if p-value is very low, \n",
    "    * it **DOES NOT** mean that the alternative hypothesis is necessarily true\n",
    "* Even if p-value is very high, \n",
    "    * it **DOES NOT** mean that the null hypothesis is necessarily true\n",
    "\n"
   ]
  },
  {
   "cell_type": "markdown",
   "metadata": {
    "slideshow": {
     "slide_type": "slide"
    }
   },
   "source": [
    "## Neyman-Pearson school statistical test\n",
    "\n",
    "What happens if the null hypothesis cannot be rejected?\n",
    "\n",
    "* It **DOES NOT** mean that the null hypothesis is necessarily true\n",
    "* In statistical testing, we never claim that\n",
    "  1. the null hypothesis is true or\n",
    "  2. the alternative hypothsis is ture\n",
    "* We can only decide to **reject** or **not reject** the null hypothesis\n"
   ]
  },
  {
   "cell_type": "markdown",
   "metadata": {
    "slideshow": {
     "slide_type": "fragment"
    }
   },
   "source": [
    "*If you're not comfortable with this sort of reasoning, you might consider using Bayesian statistics or a machine learning approach...*\n"
   ]
  },
  {
   "cell_type": "markdown",
   "metadata": {
    "slideshow": {
     "slide_type": "slide"
    }
   },
   "source": [
    "## Neyman-Pearson school statistical test\n",
    "\n",
    "* When you select genes with a p-value below 0.05\n",
    "\n",
    "you are choosing genes\n",
    "\n",
    "* that show evidence of differential expression at a significance level where the false positive rate is 5%, under the assumption that the null hypothesis is true (= the genes are not differentially expressed).\n",
    "\n",
    "\n"
   ]
  },
  {
   "cell_type": "markdown",
   "metadata": {
    "slideshow": {
     "slide_type": "fragment"
    }
   },
   "source": [
    "*but normally practically we say, they are differentially expressed genes...*\n",
    "\n"
   ]
  },
  {
   "cell_type": "markdown",
   "metadata": {
    "slideshow": {
     "slide_type": "fragment"
    }
   },
   "source": [
    "$\\rightarrow$ What is the FPR (False Positive Rate)?"
   ]
  },
  {
   "cell_type": "markdown",
   "metadata": {
    "slideshow": {
     "slide_type": "slide"
    }
   },
   "source": [
    "# Statistical hypothesis test\n",
    "\n",
    "<div align=\"center\">\n",
    "  <img src=\"https://raw.githubusercontent.com/masaomi/Bio373_2023/master/png/multi_test_table.png\" width=\"900px\">\n",
    "</div>\n",
    "\n",
    "* V: False positive, Type I error\n",
    "* S: True positive\n",
    "* T: False negative, Type II error\n",
    "* U: True negative\n"
   ]
  },
  {
   "cell_type": "markdown",
   "metadata": {
    "slideshow": {
     "slide_type": "slide"
    }
   },
   "source": [
    "# FPR, FDR\n",
    "\n",
    "<div align=\"center\">\n",
    "  <img src=\"https://raw.githubusercontent.com/masaomi/Bio373_2023/master/png/multi_test_table.png\" width=\"900px\">\n",
    "</div>\n",
    "\n",
    "* FPR = FP/(FP+TN) = V/(V+U)\n",
    "* FDR = FP/(FP+TP) = V/(V+S)\n",
    "\n",
    "FPR: False Positive Rate\n",
    "\n",
    "FDR: False Discovery Rate\n"
   ]
  },
  {
   "cell_type": "markdown",
   "metadata": {
    "slideshow": {
     "slide_type": "slide"
    }
   },
   "source": [
    "# Hypotheses Example\n",
    "\n",
    "* Null hypothesis<br>\n",
    "$H_{0}$: the gene is not differentially expressed\n",
    "* Alternative hypothsis<br>\n",
    "$H_{1}$: the gene is differentially expressed\n",
    "\n"
   ]
  },
  {
   "cell_type": "markdown",
   "metadata": {
    "slideshow": {
     "slide_type": "slide"
    }
   },
   "source": [
    "# FPR, FDR Example\n",
    "\n",
    "<div align=\"center\">\n",
    "  <img src=\"https://raw.githubusercontent.com/masaomi/Bio373_2023/master/png/test_example0.png\" width=\"900px\">\n",
    "    </div>"
   ]
  },
  {
   "cell_type": "markdown",
   "metadata": {
    "slideshow": {
     "slide_type": "slide"
    }
   },
   "source": [
    "# FPR, FDR Example\n",
    "\n",
    "<div align=\"center\">\n",
    "  <img src=\"https://raw.githubusercontent.com/masaomi/Bio373_2023/master/png/test_example1.png\" width=\"900px\">\n",
    "</div>"
   ]
  },
  {
   "cell_type": "markdown",
   "metadata": {
    "slideshow": {
     "slide_type": "slide"
    }
   },
   "source": [
    "# p-value & FDR \n",
    "\n",
    "Example\n",
    "\n",
    "* p-value < 0.05\n",
    "* FDR < 0.05\n",
    "\n",
    "*What is the difference?*\n"
   ]
  },
  {
   "cell_type": "markdown",
   "metadata": {
    "slideshow": {
     "slide_type": "slide"
    }
   },
   "source": [
    "# p-value & FDR\n",
    "\n",
    "* p-value < 0.05\n",
    "\n",
    "    You would select genes with significance level 5%<br>\n",
    "    The rate of detected DEGs in non-DEG population<br>\n",
    "    It would suggest that<br>\n",
    "    e.g. 500 genes are misdetected for DEGs in 10,000 non-DEGs<br>\n",
    "\n",
    "\n",
    "\n"
   ]
  },
  {
   "cell_type": "markdown",
   "metadata": {
    "slideshow": {
     "slide_type": "slide"
    }
   },
   "source": [
    "# p-value & FDR \n",
    "\n",
    "* FDR < 0.05\n",
    "\n",
    "    You would select genes under false discovery rate 5%<br>\n",
    "    The rate of non-DEGs in detected DEGs<br>\n",
    "    It would suggest that<br>\n",
    "    e.g. 25 genes are non-DEGs in detected 500 DEGs<br>\n"
   ]
  },
  {
   "cell_type": "markdown",
   "metadata": {
    "slideshow": {
     "slide_type": "slide"
    }
   },
   "source": [
    "# Multiple testing problem\n",
    "\n",
    "Wikipedia\n",
    "\n",
    "    In statistics, the multiple comparisons, multiplicity\n",
    "    or multiple testing problem occurs when one considers\n",
    "    a set of statistical inferences simultaneously.\n",
    "\n",
    "    Errors in inference, including confidence intervals\n",
    "    that fail to include their corresponding population\n",
    "    parameters or hypothesis tests that incorrectly reject\n",
    "    the null hypothesis are more likely to occur when\n",
    "    one considers the set as a whole."
   ]
  },
  {
   "cell_type": "markdown",
   "metadata": {
    "slideshow": {
     "slide_type": "slide"
    }
   },
   "source": [
    "# Multiple testing problem\n",
    "\n",
    "* If you do a statistical test 3 times with p-value < 0.05\n",
    "* the probability of rejecting the null hypothesis becomes at least once\n",
    "\n",
    " $1-(1-0.05) \\times (1-0.05) \\times (1-0.05) \\approx 0.143$\n"
   ]
  },
  {
   "cell_type": "markdown",
   "metadata": {
    "slideshow": {
     "slide_type": "fragment"
    }
   },
   "source": [
    "$\\rightarrow$14.3% familywise error rate"
   ]
  },
  {
   "cell_type": "markdown",
   "metadata": {
    "slideshow": {
     "slide_type": "slide"
    }
   },
   "source": [
    "# Familywise error rate Example\n",
    "\n",
    "<div align=\"center\">\n",
    "  <img src=\"https://raw.githubusercontent.com/masaomi/Bio373_2023/master/png/familywise_error_rate_example.png\" width=\"500px\">\n",
    "    </div>"
   ]
  },
  {
   "cell_type": "markdown",
   "metadata": {
    "slideshow": {
     "slide_type": "slide"
    }
   },
   "source": [
    "# Example 100,000 times T-test\n",
    "\n",
    "* 2 sets of 20 normal random numbers\n",
    "* T-test 10,000 times\n",
    "* p-value distribution"
   ]
  },
  {
   "cell_type": "markdown",
   "metadata": {
    "slideshow": {
     "slide_type": "slide"
    }
   },
   "source": [
    "# Example 100,000 times T-test\n",
    "\n",
    "R\n",
    "\n",
    "    p_value <- c()\n",
    "        for(i in 1:100000){\n",
    "            x1 <- rnorm(20)\n",
    "            x2 <- rnorm(20)\n",
    "            pv <- t.test(x1, x2)$p.value\n",
    "            p_value <- c(p_value, pv)\n",
    "        }\n",
    "    hist(p_value)"
   ]
  },
  {
   "cell_type": "markdown",
   "metadata": {
    "slideshow": {
     "slide_type": "slide"
    }
   },
   "source": [
    "## Example 100,000 times T-test\n",
    "\n",
    "<div align=\"center\">\n",
    "  <img src=\"https://raw.githubusercontent.com/masaomi/Bio373_2023/master/png/t-test-test.png\" width=\"400px\">\n",
    "</div>\n",
    "\n",
    "How many false positives if you reject the null hypotheses with significance level 5%?"
   ]
  },
  {
   "cell_type": "markdown",
   "metadata": {
    "slideshow": {
     "slide_type": "slide"
    }
   },
   "source": [
    "## Example 100,000 times T-test\n",
    "\n",
    "<div align=\"center\">\n",
    "  <img src=\"https://raw.githubusercontent.com/masaomi/Bio373_2023/master/png/t-test-test.png\" width=\"400px\">\n",
    "</div>\n",
    "\n",
    "FPR = 5%, #False Positives = 100,000 * 0.05 = 5,000, in case that you reject null hypotheses with significance level 5%\n"
   ]
  },
  {
   "cell_type": "markdown",
   "metadata": {
    "slideshow": {
     "slide_type": "fragment"
    }
   },
   "source": [
    "e.g. 5,000 genes might be detected for differentially expressed genes in 100,000 genes, even if they were not differentially expressed\n"
   ]
  },
  {
   "cell_type": "markdown",
   "metadata": {
    "slideshow": {
     "slide_type": "slide"
    }
   },
   "source": [
    "# Correction p-value\n",
    "\n",
    "Correction familywise error rate\n",
    "* Bonferroni method: \n",
    "    * simple, very conservative\n",
    "\n",
    "Calculate FDR from p-values\n",
    "* Benjamini-Hochberg method\n",
    "    - simple, popular\n",
    "\n",
    "<div class=\"small\">Benjamini Y. Hochberg, et al., 1995</div>"
   ]
  },
  {
   "cell_type": "markdown",
   "metadata": {
    "slideshow": {
     "slide_type": "slide"
    }
   },
   "source": [
    "# Correction p-value\n",
    "\n",
    "Correction familywise error rate\n",
    "* Bonferroni method<br>\n",
    "  simple, very conservative<br>\n",
    "  significant level α / the number of tests N<br>\n",
    "\n",
    "R\n",
    "\n",
    "    q.values <- p.adjust(p.values, method = \"bonferroni\")\n",
    "\n"
   ]
  },
  {
   "cell_type": "markdown",
   "metadata": {
    "slideshow": {
     "slide_type": "slide"
    }
   },
   "source": [
    "# Correction p-value\n",
    "\n",
    "Calculate FDR from p-values\n",
    "* Benjamini-Hochberg method<br>simple, popular\n",
    "\n",
    "R\n",
    "\n",
    "    q.values <- p.adjust(p.values, method = \"BH\")\n",
    "\n",
    "<div class=\"small\">Benjamini Y. Hochberg, et al., 1995</div>"
   ]
  },
  {
   "cell_type": "markdown",
   "metadata": {
    "slideshow": {
     "slide_type": "slide"
    }
   },
   "source": [
    "#  Benjamini-Hochberg method\n",
    "\n",
    "Algorithm\n",
    "\n",
    "1.Sort p-values: $p_1 \\leq  p_{2} \\leq p_{3} \\leq \\dots \\leq p_{N}$\n",
    "\n",
    "2.Calculate: $q_m = p_m N / m, m=1,\\dots,N$\n",
    "\n",
    "3.If $q_i > q_j$ then $q_i=q_j, i,j=1,…,N, i<j$\n",
    "\n",
    "<div class=\"small\">Y. Benjamini, Y. Hochberg, 1995</div>\n"
   ]
  },
  {
   "cell_type": "markdown",
   "metadata": {
    "slideshow": {
     "slide_type": "slide"
    }
   },
   "source": [
    "##  Benjamini-Hochberg method 100,000 times T-test\n",
    "\n",
    "<div align=\"center\">\n",
    "  <img src=\"https://raw.githubusercontent.com/masaomi/Bio373_2023/master/png/BH.png\" width=\"350px\">\n",
    "</div>\n",
    "\n",
    "Mostly ~ 1.0, null hypotheses cannot be rejected\n"
   ]
  },
  {
   "cell_type": "markdown",
   "metadata": {
    "slideshow": {
     "slide_type": "slide"
    }
   },
   "source": [
    "# Mini Summary\n",
    "\n",
    "* Hypothesis testing<br>\n",
    "  $\\longrightarrow$ based on Neyman-Pearson approach\n",
    "* False positive rate and false discovery rate\n",
    "    * FPR: rate of false positives under null hypothesis\n",
    "    * FDR: rate of false positives in detected all positives\n",
    "* Multiple testing problem and p-value correction\n",
    "    * Bonferroni correction (*too severe*)\n",
    "    * Benjamini-Hochberg method (*normally used for RNAseq*)"
   ]
  },
  {
   "cell_type": "markdown",
   "metadata": {
    "slideshow": {
     "slide_type": "slide"
    }
   },
   "source": [
    "# Statistical test DEGs detection\n",
    "\n",
    "* Simply: Fisher's exact test\n",
    "* Estimate *Mean* and *Variance*<br>$\\rightarrow$ GLM fit - negative binomial distribution\n",
    "* Likelihood-ratio test of two models and calculate p-value\n",
    "\n",
    "<br><br>\n",
    "<div class=\"small\">\n",
    "    <ul>\n",
    "        <li>Robinson et al., Biostatistics, 2008</li>\n",
    "        <li>Anders and Huber, Genome Biol., 2010</li>\n",
    "    </ul>\n",
    "    </div>\n"
   ]
  },
  {
   "cell_type": "markdown",
   "metadata": {
    "slideshow": {
     "slide_type": "slide"
    }
   },
   "source": [
    "# T-test\n",
    "\n",
    "Problems\n",
    "* Not enough samples\n",
    "    * usually 3-4 biological replicates\n",
    "* Not nomral distribution\n"
   ]
  },
  {
   "cell_type": "markdown",
   "metadata": {
    "slideshow": {
     "slide_type": "slide"
    }
   },
   "source": [
    "# Fisher' exact test\n",
    "<div align=\"center\">\n",
    "  <img src=\"https://raw.githubusercontent.com/masaomi/Bio373_2023/master/png/fisher_test.png\" width=\"700px\">\n",
    "</div>\n",
    "\n",
    "Problem\n",
    "* There is no consideration of biological replicates variation\n"
   ]
  },
  {
   "cell_type": "markdown",
   "metadata": {
    "slideshow": {
     "slide_type": "slide"
    }
   },
   "source": [
    "# Likelihood ratio test LRT\n",
    "\n",
    "<div align=\"center\">\n",
    "  <img src=\"https://raw.githubusercontent.com/masaomi/Bio373_2023/master/png/lrt_eq.png\" width=\"700px\">\n",
    "</div>\n",
    "\n",
    "* Null model: no DEGs\n",
    "* Alternative model: DEGs\n",
    "* Deviance follows χ^2 distribution and calculate p-value\n"
   ]
  },
  {
   "cell_type": "markdown",
   "metadata": {
    "slideshow": {
     "slide_type": "slide"
    }
   },
   "source": [
    "# What is likelihood?\n",
    "\n",
    "    A likelihood function (often simply the likelihood)\n",
    "    is a function of the parameters of a statistical model\n",
    "    given data.(Wikipedia)\n",
    "\n",
    "* Mathematically equal to *joint probability*\n",
    "* How much probable the model fits to the data with the parameter(s)"
   ]
  },
  {
   "cell_type": "markdown",
   "metadata": {
    "slideshow": {
     "slide_type": "slide"
    }
   },
   "source": [
    "# Example Likelihood\n",
    "\n",
    "<div align=\"center\">\n",
    "  <img src=\"https://raw.githubusercontent.com/masaomi/Bio373_2023/master/png/samples.png\" width=\"700px\">\n",
    "</div>\n",
    "\n",
    "Supposing that\n",
    "* You got 10 samples from a normal distributed population<br>\n",
    "$x=(x_1, x_2, \\dots, x_{10})$\n",
    "* You do not know the mean and variance of the distribution\n",
    "\n",
    "<span class=\"small\">figures come from: https://www.kobiwa.jp/2019/12/03/post-777/ (Japanese)</span>"
   ]
  },
  {
   "cell_type": "markdown",
   "metadata": {
    "slideshow": {
     "slide_type": "slide"
    }
   },
   "source": [
    "# Example likelihood\n",
    "\n",
    "Normal distribution probability density function\n",
    "\n",
    "  <img src=\"https://raw.githubusercontent.com/masaomi/Bio373_2023/master/png/norm_eq.png\" width=\"600px\">\n",
    "\n",
    "Likelihood function\n",
    "\n",
    "  <img src=\"https://raw.githubusercontent.com/masaomi/Bio373_2023/master/png/likelihood_eq.png\" width=\"600px\">"
   ]
  },
  {
   "cell_type": "markdown",
   "metadata": {
    "slideshow": {
     "slide_type": "slide"
    }
   },
   "source": [
    "# Example likelihood\n",
    "\n",
    "$\\mu=0.0, \\sigma=1.0$\n",
    "<div align=\"center\">\n",
    "  <img src=\"https://raw.githubusercontent.com/masaomi/Bio373_2023/master/png/likelihood_ex1.png\" width=\"500px\">\n",
    "</div>\n",
    "\n",
    "Likelihood = -568.93...\n",
    "\n",
    "<span class=\"small\">figures come from: https://www.kobiwa.jp/2019/12/03/post-777/ (Japanese)</span>"
   ]
  },
  {
   "cell_type": "markdown",
   "metadata": {
    "slideshow": {
     "slide_type": "slide"
    }
   },
   "source": [
    "# Example likelihood\n",
    "\n",
    "$\\mu=5.0, \\sigma=4.0$\n",
    "<div align=\"center\">\n",
    "  <img src=\"https://raw.githubusercontent.com/masaomi/Bio373_2023/master/png/likelihood_ex2.png\" width=\"500px\">\n",
    "</div>\n",
    "\n",
    "Likelihood = -20.04... got bigger\n",
    "\n",
    "<span class=\"small\">figures come from: https://www.kobiwa.jp/2019/12/03/post-777/ (Japanese)</span>"
   ]
  },
  {
   "cell_type": "markdown",
   "metadata": {
    "slideshow": {
     "slide_type": "slide"
    }
   },
   "source": [
    "# Example likelihood\n",
    "\n",
    "<div align=\"center\">\n",
    "  <img src=\"https://raw.githubusercontent.com/masaomi/Bio373_2023/master/png/likelihood_anime.gif\" width=\"600px\">\n",
    "</div>\n",
    "\n",
    "\n",
    "<span class=\"small\">figures come from: https://www.kobiwa.jp/2019/12/03/post-777/ (Japanese)</span>"
   ]
  },
  {
   "cell_type": "markdown",
   "metadata": {
    "slideshow": {
     "slide_type": "slide"
    }
   },
   "source": [
    "# Example likelihood\n",
    "\n",
    "<div align=\"center\">\n",
    "  <img src=\"https://raw.githubusercontent.com/masaomi/Bio373_2023/master/png/likelihood_anime2.gif\" width=\"600px\">\n",
    "</div>\n",
    "\n",
    "<span class=\"small\">figures come from: https://www.kobiwa.jp/2019/12/03/post-777/ (Japanese)</span>"
   ]
  },
  {
   "cell_type": "markdown",
   "metadata": {
    "slideshow": {
     "slide_type": "slide"
    }
   },
   "source": [
    "# Mini summary\n",
    "\n",
    "* Joint probability\n",
    "  * assumption: given a distribution function\n",
    "  * input: samples\n",
    "  * output: probability\n",
    "\n",
    "* Likelihood\n",
    "  * assumption: given samples\n",
    "  * input: parameters of distribution function\n",
    "  * output: likelihood"
   ]
  },
  {
   "cell_type": "markdown",
   "metadata": {
    "slideshow": {
     "slide_type": "slide"
    }
   },
   "source": [
    "# Likelihood ratio test\n",
    "\n",
    "* 2 models distribution function\n",
    "  1. estimate parameters using gene$_i$  expressions in both A and B group\n",
    "  2. estimate parameters using gene$_i$  expressions in A and B group, independently\n",
    "* calculate\n",
    "  1. likelihood ratio\n",
    "  2. Deviance\n",
    "  3. p-value, FDR\n"
   ]
  },
  {
   "cell_type": "markdown",
   "metadata": {
    "slideshow": {
     "slide_type": "slide"
    }
   },
   "source": [
    "## Likelihood ratio test / Example cheat coin toss\n",
    "\n",
    "Imagine a cheating coin toss...\n",
    "<div align=\"center\">\n",
    "  <img src=\"https://raw.githubusercontent.com/masaomi/Bio373_2023/master/png/cheat_coin.png\" width=\"800px\">\n",
    "</div>"
   ]
  },
  {
   "cell_type": "markdown",
   "metadata": {
    "slideshow": {
     "slide_type": "slide"
    }
   },
   "source": [
    "## Likelihood ratio test / Example cheat coin toss\n",
    "\n",
    "Coin toss 10 times each\n",
    "* Person A: heads 5, tails 5\n",
    "* Person B: heads 9, tails 1\n"
   ]
  },
  {
   "cell_type": "markdown",
   "metadata": {
    "slideshow": {
     "slide_type": "fragment"
    }
   },
   "source": [
    "$\\longrightarrow$ *Are they using certainly the same coin?*\n"
   ]
  },
  {
   "cell_type": "markdown",
   "metadata": {
    "slideshow": {
     "slide_type": "slide"
    }
   },
   "source": [
    "## Likelihood ratio test / Example cheat coin toss\n",
    "\n",
    "Parameter (of distribution function): the probability of heads H\n",
    "\n",
    "null model:\n",
    "\n",
    "$L(H0) = 0.7^{14} × 0.3^6 = 4.94 × 10^{-6}$\n",
    "\n",
    "alternative model: \n",
    "\n",
    "$L(H1) = 0.5^5 × 0.5^5 × 0.9^9 × 0.1^1 = 3.78 × 10^{-5}$\n"
   ]
  },
  {
   "cell_type": "markdown",
   "metadata": {
    "slideshow": {
     "slide_type": "slide"
    }
   },
   "source": [
    "# Likelihood ratio test LRT\n",
    "\n",
    "<div align=\"center\">\n",
    "  <img src=\"https://raw.githubusercontent.com/masaomi/Bio373_2023/master/png/lrt_eq.png\" width=\"700px\">\n",
    "</div>\n",
    "\n",
    "* Null model: no DEGs\n",
    "* Alternative model: DEGs\n",
    "* Deviance follows χ^2 distribution and calculate p-value\n"
   ]
  },
  {
   "cell_type": "markdown",
   "metadata": {
    "slideshow": {
     "slide_type": "slide"
    }
   },
   "source": [
    "## Likelihood ratio test Example cheat coin toss\n",
    "\n",
    "Likelihood\n",
    "\n",
    "$L(H0) = 0.7^{14} × 0.3^6 = 4.94 × 10^{-6}$\n",
    "$L(H1) = 0.5^5 × 0.5^5 × 0.9^9 × 0.1^1 = 3.78 × 10^{-5}$\n",
    "\n",
    "Likelihood ratio\n",
    "* $\\lambda = L(H0)/L(H1) =  4.94 × 10^{-6} / 3.87 \\times 10^{-5} = 0.131$\n",
    "* $D = -2log(\\lambda) = -2log(0.131)$\n",
    "$= 4.07$\n",
    "\n",
    "*D* (Deviance) becomes low if the two coins are same..."
   ]
  },
  {
   "cell_type": "markdown",
   "metadata": {
    "slideshow": {
     "slide_type": "fragment"
    }
   },
   "source": [
    "p-value\n",
    "```R\n",
    "> pchisq(4.07, df=1, lower.tail=FALSE))\n",
    "[1] 0.04365\n",
    "```"
   ]
  },
  {
   "cell_type": "markdown",
   "metadata": {
    "slideshow": {
     "slide_type": "skip"
    }
   },
   "source": [
    "## Likelihood ratio test Example cheat coin toss\n",
    "\n",
    "Likelihood L\n",
    "* $L(A,B) = 0.8^{13} \\times 0.35^7 = 0.0000023$\n",
    "* $L(A) = 0.5^{13} \\times 0.5^7 = 0.5^{20} = 9.53 \\times 10^{-7}$\n",
    "\n",
    "Likelihood ratio\n",
    "* $L(A,B)/L(A) = (0.65^{13} \\times 0.35^7) / (0.5^{20}) = 2.49$\n",
    "* $D = -2log(L(A,B)/L(A)) = -2(log(L(A,B))-log(L(A)))$\n",
    "$= -0.79$\n",
    "\n",
    "*D* (Deviance) should be close to 0.0 if the two coins are same..."
   ]
  },
  {
   "cell_type": "markdown",
   "metadata": {
    "slideshow": {
     "slide_type": "slide"
    }
   },
   "source": [
    "# For more details\n",
    "<div style=\"font-size: 23px;\">\n",
    "\n",
    "Theoretical\n",
    "* Huei-Chung Huang, et. al., Differential Expression Analysis for RNA-Seq: An Overview of Statistical Methods and Computational Software, Cancer Inform. 2015\n",
    "\n",
    "Practical\n",
    "* Simon Anders, et. al., Count-based differential expression analysis of RNA sequencing data using R and Bioconductor,Nature protocols, 2013\n",
    "\n",
    "Benchmarking\n",
    "* Juliana Costa-Silva, et. al., RNA-Seq differential expression analysis: An extended review and a software tool, PLOS One, 2017\n",
    "</div>\n"
   ]
  },
  {
   "cell_type": "markdown",
   "metadata": {
    "slideshow": {
     "slide_type": "slide"
    }
   },
   "source": [
    "# RNA-seq workflow Differential expression analysis\n",
    "\n",
    "1. Sequencing\n",
    "2. Quality control\n",
    "3. Mapping / Alignment\n",
    "4. Estimate expression level\n",
    "    * Clustering\n",
    "    * Differential expression\n",
    "    * **Functional analysis**"
   ]
  },
  {
   "cell_type": "markdown",
   "metadata": {
    "slideshow": {
     "slide_type": "slide"
    }
   },
   "source": [
    "# Functional analysis\n",
    "\n",
    "* Gene Ontology analysis\n",
    "* Pathway analysis\n"
   ]
  },
  {
   "cell_type": "markdown",
   "metadata": {
    "slideshow": {
     "slide_type": "slide"
    }
   },
   "source": [
    "# Gene Ontology\n",
    "\n",
    "Structured controlled vocabularies **ontologies** that describe gene products in terms of their associated\n",
    "1. **Biological Processes (BP)**\n",
    "2. **Cellular Components (CC)**\n",
    "3. **Molecular Functions (MF)**\n",
    "\n",
    "<span class=\"small\">http://www.geneontology.org/GO.doc.shtml</span>"
   ]
  },
  {
   "cell_type": "markdown",
   "metadata": {
    "slideshow": {
     "slide_type": "slide"
    }
   },
   "source": [
    "# Ontology structure\n",
    "\n",
    "<div align=\"center\">\n",
    "    <img src=\"https://raw.githubusercontent.com/masaomi/Bio373_2023/master/png/go_tree.gif\" width=\"700px\">\n",
    "            </div>\n",
    "            \n",
    "* Acyclic Graph Tree Structure\n",
    "* Node: GO term"
   ]
  },
  {
   "cell_type": "markdown",
   "metadata": {
    "slideshow": {
     "slide_type": "slide"
    }
   },
   "source": [
    "# GO term, GO ID\n",
    "\n",
    "Example\n",
    "* ATCG00080.1 (photosystem II reaction center protein I)\n",
    "  * GO:0015979 : photosynthesis (BP)\n",
    "  * GO:0016020 : membrane (CC)\n"
   ]
  },
  {
   "cell_type": "markdown",
   "metadata": {
    "slideshow": {
     "slide_type": "slide"
    }
   },
   "source": [
    "# Exercise\n",
    "\n",
    "Example\n",
    "* ATCG00080.1 (photosystem II reaction center protein I)\n",
    "\n",
    "Search\n",
    "* http://www.arabidopsis.org/\n"
   ]
  },
  {
   "cell_type": "markdown",
   "metadata": {
    "slideshow": {
     "slide_type": "slide"
    }
   },
   "source": [
    "# GO Relations\n",
    "\n",
    "<div align=\"center\">\n",
    "  <img src=\"https://raw.githubusercontent.com/masaomi/Bio373_2023/master/png/go_tree.gif\" width=\"600px\">\n",
    "</div>\n",
    "\n",
    "1. **is a**\n",
    "2. **part of**\n",
    "3. **regulates**"
   ]
  },
  {
   "cell_type": "markdown",
   "metadata": {
    "slideshow": {
     "slide_type": "slide"
    }
   },
   "source": [
    "# 'is a', 'part of'\n",
    "<div align=\"center\">\n",
    "  <img src=\"https://raw.githubusercontent.com/masaomi/Bio373_2023/master/png/go_relation1.gif\" width=\"500px\">\n",
    "</div>\n",
    "\n",
    "mitochondrion has two parents: it is an organelle and it is part of the cytoplasm\n",
    "\n",
    "organelle has two children: mitochondrion is an organelle, and organelle membrane is part of organelle"
   ]
  },
  {
   "cell_type": "markdown",
   "metadata": {
    "slideshow": {
     "slide_type": "slide"
    }
   },
   "source": [
    "# 'regulates'\n",
    "\n",
    "<div align=\"center\">\n",
    "  <img src=\"https://raw.githubusercontent.com/masaomi/Bio373_2023/master/png/go_regulate.gif\" width=\"800px\">\n",
    "</div>\n",
    "\n",
    "regulation of mitotic spindle organization regulates\n",
    "    mitotic spindle organization and mitotic spindle \n",
    "    organization is part of the mitotic cell cycle\n",
    "\n",
    "therefore regulation of mitotic spindle organization \n",
    "    regulates the mitotic cell cycle\n"
   ]
  },
  {
   "cell_type": "markdown",
   "metadata": {
    "slideshow": {
     "slide_type": "slide"
    }
   },
   "source": [
    "# Practice\n",
    "\n",
    "<div align=\"center\">\n",
    "  <img src=\"https://raw.githubusercontent.com/masaomi/Bio373_2023/master/png/relation_practice.png\" width=\"700px\">\n",
    "</div>\n"
   ]
  },
  {
   "cell_type": "markdown",
   "metadata": {
    "slideshow": {
     "slide_type": "fragment"
    }
   },
   "source": [
    "*Part of*"
   ]
  },
  {
   "cell_type": "markdown",
   "metadata": {
    "slideshow": {
     "slide_type": "slide"
    }
   },
   "source": [
    "# Functional analysis/Enrichment analysis\n",
    "\n",
    "<div class=\"row\">\n",
    "  <div class=\"column\" align=\"center\">\n",
    "  <img src=\"https://raw.githubusercontent.com/masaomi/Bio373_2023/master/png/gsea.png\" width=\"500px\">\n",
    "  </div>\n",
    "  <div class=\"column\" align=\"left\">\n",
    "      <br>\n",
    "    Gene set enrichment analysis (GSEA) is a method to \n",
    "    identify classes of genes or proteins that are over-\n",
    "    represented in a large set of genes or proteins \n",
    "    (Wikipedia)\n",
    "    </div>\n",
    "</div>\n",
    "\n",
    "\n",
    "\n",
    "<span class=\"small\">Aravind Subramanian, et al., PNAS, 102 (43), 15545--15550, 2005.</span>\n",
    "\n"
   ]
  },
  {
   "cell_type": "markdown",
   "metadata": {
    "slideshow": {
     "slide_type": "slide"
    }
   },
   "source": [
    "# Functional analysis/Enrichment analysis\n",
    "\n",
    "1. ORA: Over Representation Analysis\n",
    "2. FCS: Functional Class Scoring (e.g. GSEA)\n",
    "\n",
    "<span class=\"small\">Ref:<br> \n",
    "    https://hbctraining.github.io/DGE_workshop_salmon_online/lessons/10_FA_over-representation_analysis.html<br>\n",
    "    https://hbctraining.github.io/DGE_workshop_salmon_online/lessons/11_FA_functional_class_scoring.html\n",
    "</span>\n"
   ]
  },
  {
   "cell_type": "markdown",
   "metadata": {
    "slideshow": {
     "slide_type": "slide"
    }
   },
   "source": [
    "# ORA basic idea\n",
    "\n",
    "<div align=\"center\">\n",
    "  <img src=\"https://raw.githubusercontent.com/masaomi/Bio373_2023/master/png/contingency_table.png\" width=\"800px\">\n",
    "</div>\n",
    "\n",
    "<span class=\"small\">Adrian Alexa, et. al., Bioinformatics, 2006</span>\n"
   ]
  },
  {
   "cell_type": "markdown",
   "metadata": {
    "slideshow": {
     "slide_type": "slide"
    }
   },
   "source": [
    "# Example, Fisher\\'s exact test\n",
    "\n",
    "|             | DEGs        | non DEGs |\n",
    "| ----------- | ----------- | -------- |\n",
    "| GOID:0001   | 10          | 100      | \n",
    "| Other than GOID:0001 | 100       | 1000 |\n",
    "\n",
    "```R\n",
    "> fisher.test(matrix(c(10,100,100,1000), nrow=2))\n",
    "\n",
    "    Fisher's Exact Test for Count Data\n",
    "\n",
    "data:  matrix(c(10, 100, 100, 1000), nrow = 2)\n",
    "p-value = 1\n",
    "```\n",
    "\n",
    "   "
   ]
  },
  {
   "cell_type": "markdown",
   "metadata": {
    "slideshow": {
     "slide_type": "slide"
    }
   },
   "source": [
    "# Example, Fisher\\'s exact test\n",
    "\n",
    "|             | DEGs        | non DEGs |\n",
    "| ----------- | ----------- | -------- |\n",
    "| GOID:0001   | 25          | 100      | \n",
    "| Other than GOID:0001 | 100       | 1000 |\n",
    "\n",
    "```R\n",
    "> fisher.test(matrix(c(25,100,100,1000), nrow=2))\n",
    "\n",
    "\tFisher's Exact Test for Count Data\n",
    "\n",
    "data:  matrix(c(25, 100, 100, 1000), nrow = 2)\n",
    "p-value = 0.0004687\n",
    "```\n",
    "\n",
    "   "
   ]
  },
  {
   "cell_type": "markdown",
   "metadata": {
    "slideshow": {
     "slide_type": "slide"
    }
   },
   "source": [
    "# Web tools (mostly ORA)\n",
    "\n",
    "* GOTermFinder http://go.princeton.edu/cgi-bin/GOTermFinder\n",
    "* PANTHER http://www.pantherdb.org\n",
    "* GOrilla http://cbl-gorilla.cs.technion.ac.il/\n",
    "* ReviGO http://revigo.irb.hr/\n"
   ]
  },
  {
   "cell_type": "markdown",
   "metadata": {
    "slideshow": {
     "slide_type": "slide"
    }
   },
   "source": [
    "# R packages Bioconductor\n",
    "\n",
    "* TopGo https://bioconductor.org/packages/release/bioc/html/topGO.html\n",
    "* goseq http://bioconductor.org/packages/release/bioc/html/goseq.html\n",
    "* GOstats https://www.bioconductor.org/packages/release/bioc/html/GOstats.html\n",
    "* clusterProfiler https://bioconductor.org/packages/release/bioc/html/clusterProfiler.html"
   ]
  },
  {
   "cell_type": "markdown",
   "metadata": {
    "slideshow": {
     "slide_type": "slide"
    }
   },
   "source": [
    "# Mini Summary\n",
    "\n",
    "* Likelihood ratio test<br>\n",
    "  for DEG detection\n",
    "* Gene ontology structure<br>\n",
    "  BP, CC, MF<br>\n",
    "  is-a, part-of, regulates\n",
    "* Functional analysis/Enrichment analysis<br>\n",
    "  to find functional GO categories/pathways"
   ]
  }
 ],
 "metadata": {
  "celltoolbar": "Slideshow",
  "kernelspec": {
   "display_name": "Python 3 (ipykernel)",
   "language": "python",
   "name": "python3"
  },
  "language_info": {
   "codemirror_mode": {
    "name": "ipython",
    "version": 3
   },
   "file_extension": ".py",
   "mimetype": "text/x-python",
   "name": "python",
   "nbconvert_exporter": "python",
   "pygments_lexer": "ipython3",
   "version": "3.10.10"
  },
  "rise": {
   "chalkboard": {
    "color": [
     "rgb(250, 150, 150)",
     "rgb(250, 150, 150)"
    ]
   },
   "enable_chalkboard": true,
   "header": "<h3>Bio373 2023</h3>",
   "progress": true,
   "scroll": true,
   "slideNumber": "c/t",
   "theme": "serif",
   "transition": "zoom"
  }
 },
 "nbformat": 4,
 "nbformat_minor": 4
}
